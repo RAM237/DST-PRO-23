{
  "nbformat": 4,
  "nbformat_minor": 0,
  "metadata": {
    "colab": {
      "name": "Movies_IMBD_v4.1_ram237.ipynb",
      "provenance": [],
      "toc_visible": true
    },
    "kernelspec": {
      "display_name": "Python 3",
      "language": "python",
      "name": "python3"
    },
    "language_info": {
      "codemirror_mode": {
        "name": "ipython",
        "version": 3
      },
      "file_extension": ".py",
      "mimetype": "text/x-python",
      "name": "python",
      "nbconvert_exporter": "python",
      "pygments_lexer": "ipython3",
      "version": "3.7.4"
    }
  },
  "cells": [
    {
      "cell_type": "code",
      "metadata": {
        "_cell_guid": "b1076dfc-b9ad-4769-8c92-a6c4dae69d19",
        "_uuid": "8f2839f25d086af736a60e9eeb907d3b93b6e0e5",
        "id": "U2D2gTdJVp90"
      },
      "source": [
        "import numpy as np\n",
        "import pandas as pd"
      ],
      "execution_count": 180,
      "outputs": []
    },
    {
      "cell_type": "code",
      "metadata": {
        "_cell_guid": "79c7e3d0-c299-4dcb-8224-4455121ee9b0",
        "_uuid": "d629ff2d2480ee46fbb7e2d37f6b5fab8052498a",
        "colab": {
          "base_uri": "https://localhost:8080/",
          "height": 581
        },
        "id": "oyGfxL3eVp9-",
        "outputId": "96e210c4-bd7a-46df-a9d6-36e1b9fbd051"
      },
      "source": [
        "data = pd.read_csv('movie_bd_v5.csv')\n",
        "data.sample(5)"
      ],
      "execution_count": 181,
      "outputs": [
        {
          "output_type": "execute_result",
          "data": {
            "text/html": [
              "<div>\n",
              "<style scoped>\n",
              "    .dataframe tbody tr th:only-of-type {\n",
              "        vertical-align: middle;\n",
              "    }\n",
              "\n",
              "    .dataframe tbody tr th {\n",
              "        vertical-align: top;\n",
              "    }\n",
              "\n",
              "    .dataframe thead th {\n",
              "        text-align: right;\n",
              "    }\n",
              "</style>\n",
              "<table border=\"1\" class=\"dataframe\">\n",
              "  <thead>\n",
              "    <tr style=\"text-align: right;\">\n",
              "      <th></th>\n",
              "      <th>imdb_id</th>\n",
              "      <th>budget</th>\n",
              "      <th>revenue</th>\n",
              "      <th>original_title</th>\n",
              "      <th>cast</th>\n",
              "      <th>director</th>\n",
              "      <th>tagline</th>\n",
              "      <th>overview</th>\n",
              "      <th>runtime</th>\n",
              "      <th>genres</th>\n",
              "      <th>production_companies</th>\n",
              "      <th>release_date</th>\n",
              "      <th>vote_average</th>\n",
              "      <th>release_year</th>\n",
              "    </tr>\n",
              "  </thead>\n",
              "  <tbody>\n",
              "    <tr>\n",
              "      <th>1044</th>\n",
              "      <td>tt1615065</td>\n",
              "      <td>45000000</td>\n",
              "      <td>47000000</td>\n",
              "      <td>Savages</td>\n",
              "      <td>Blake Lively|Taylor Kitsch|Aaron Taylor-Johnso...</td>\n",
              "      <td>Oliver Stone</td>\n",
              "      <td>Young Beautiful Deadly.</td>\n",
              "      <td>Pot growers Ben and Chon face off against the ...</td>\n",
              "      <td>131</td>\n",
              "      <td>Crime|Drama|Thriller</td>\n",
              "      <td>Ixtlan|Relativity Media|Onda Entertainment</td>\n",
              "      <td>7/6/2012</td>\n",
              "      <td>6.2</td>\n",
              "      <td>2012</td>\n",
              "    </tr>\n",
              "    <tr>\n",
              "      <th>779</th>\n",
              "      <td>tt1217613</td>\n",
              "      <td>70000000</td>\n",
              "      <td>202466756</td>\n",
              "      <td>Battle: Los Angeles</td>\n",
              "      <td>Aaron Eckhart|RamÃ³n RodrÃ­guez|Will Rothhaar|...</td>\n",
              "      <td>Jonathan Liebesman</td>\n",
              "      <td>It's not war. It's survival.</td>\n",
              "      <td>The Earth is attacked by unknown forces. As pe...</td>\n",
              "      <td>116</td>\n",
              "      <td>Action|Science Fiction</td>\n",
              "      <td>Columbia Pictures|Original Film|Relativity Media</td>\n",
              "      <td>3/8/2011</td>\n",
              "      <td>5.5</td>\n",
              "      <td>2011</td>\n",
              "    </tr>\n",
              "    <tr>\n",
              "      <th>994</th>\n",
              "      <td>tt1764651</td>\n",
              "      <td>100000000</td>\n",
              "      <td>312573423</td>\n",
              "      <td>The Expendables 2</td>\n",
              "      <td>Sylvester Stallone|Jason Statham|Dolph Lundgre...</td>\n",
              "      <td>Simon West</td>\n",
              "      <td>Back for War.</td>\n",
              "      <td>Mr. Church reunites the Expendables for what s...</td>\n",
              "      <td>103</td>\n",
              "      <td>Action|Adventure|Thriller</td>\n",
              "      <td>Nu Image Films|Millennium Films</td>\n",
              "      <td>8/8/2012</td>\n",
              "      <td>6.0</td>\n",
              "      <td>2012</td>\n",
              "    </tr>\n",
              "    <tr>\n",
              "      <th>405</th>\n",
              "      <td>tt1037705</td>\n",
              "      <td>80000000</td>\n",
              "      <td>157107755</td>\n",
              "      <td>The Book of Eli</td>\n",
              "      <td>Denzel Washington|Gary Oldman|Michael Gambon|M...</td>\n",
              "      <td>Albert Hughes|Allen Hughes</td>\n",
              "      <td>Some will kill to have it. He will kill to pro...</td>\n",
              "      <td>A post-apocalyptic tale, in which a lone man f...</td>\n",
              "      <td>118</td>\n",
              "      <td>Action|Thriller|Science Fiction</td>\n",
              "      <td>Alcon Entertainment|Silver Pictures</td>\n",
              "      <td>1/14/2010</td>\n",
              "      <td>6.5</td>\n",
              "      <td>2010</td>\n",
              "    </tr>\n",
              "    <tr>\n",
              "      <th>199</th>\n",
              "      <td>tt0787474</td>\n",
              "      <td>60000000</td>\n",
              "      <td>108255770</td>\n",
              "      <td>The Boxtrolls</td>\n",
              "      <td>Ben Kingsley|Isaac Hempstead Wright|Elle Fanni...</td>\n",
              "      <td>Graham Annable|Anthony Stacchi</td>\n",
              "      <td>When troubles strikes friends stack together</td>\n",
              "      <td>An orphaned boy raised by underground creature...</td>\n",
              "      <td>97</td>\n",
              "      <td>Animation|Comedy|Family|Fantasy</td>\n",
              "      <td>Laika Entertainment</td>\n",
              "      <td>9/10/2014</td>\n",
              "      <td>6.6</td>\n",
              "      <td>2014</td>\n",
              "    </tr>\n",
              "  </tbody>\n",
              "</table>\n",
              "</div>"
            ],
            "text/plain": [
              "        imdb_id     budget    revenue  ... release_date vote_average release_year\n",
              "1044  tt1615065   45000000   47000000  ...     7/6/2012          6.2         2012\n",
              "779   tt1217613   70000000  202466756  ...     3/8/2011          5.5         2011\n",
              "994   tt1764651  100000000  312573423  ...     8/8/2012          6.0         2012\n",
              "405   tt1037705   80000000  157107755  ...    1/14/2010          6.5         2010\n",
              "199   tt0787474   60000000  108255770  ...    9/10/2014          6.6         2014\n",
              "\n",
              "[5 rows x 14 columns]"
            ]
          },
          "metadata": {
            "tags": []
          },
          "execution_count": 181
        }
      ]
    },
    {
      "cell_type": "code",
      "metadata": {
        "colab": {
          "base_uri": "https://localhost:8080/",
          "height": 297
        },
        "id": "CoYUnagMVp-C",
        "outputId": "31a0a08d-2b12-4537-e9d5-d30bfed62e4f"
      },
      "source": [
        "data.describe()"
      ],
      "execution_count": 182,
      "outputs": [
        {
          "output_type": "execute_result",
          "data": {
            "text/html": [
              "<div>\n",
              "<style scoped>\n",
              "    .dataframe tbody tr th:only-of-type {\n",
              "        vertical-align: middle;\n",
              "    }\n",
              "\n",
              "    .dataframe tbody tr th {\n",
              "        vertical-align: top;\n",
              "    }\n",
              "\n",
              "    .dataframe thead th {\n",
              "        text-align: right;\n",
              "    }\n",
              "</style>\n",
              "<table border=\"1\" class=\"dataframe\">\n",
              "  <thead>\n",
              "    <tr style=\"text-align: right;\">\n",
              "      <th></th>\n",
              "      <th>budget</th>\n",
              "      <th>revenue</th>\n",
              "      <th>runtime</th>\n",
              "      <th>vote_average</th>\n",
              "      <th>release_year</th>\n",
              "    </tr>\n",
              "  </thead>\n",
              "  <tbody>\n",
              "    <tr>\n",
              "      <th>count</th>\n",
              "      <td>1.889000e+03</td>\n",
              "      <td>1.889000e+03</td>\n",
              "      <td>1889.000000</td>\n",
              "      <td>1889.000000</td>\n",
              "      <td>1889.000000</td>\n",
              "    </tr>\n",
              "    <tr>\n",
              "      <th>mean</th>\n",
              "      <td>5.431083e+07</td>\n",
              "      <td>1.553653e+08</td>\n",
              "      <td>109.658549</td>\n",
              "      <td>6.140762</td>\n",
              "      <td>2007.860773</td>\n",
              "    </tr>\n",
              "    <tr>\n",
              "      <th>std</th>\n",
              "      <td>4.858721e+07</td>\n",
              "      <td>2.146698e+08</td>\n",
              "      <td>18.017041</td>\n",
              "      <td>0.764763</td>\n",
              "      <td>4.468841</td>\n",
              "    </tr>\n",
              "    <tr>\n",
              "      <th>min</th>\n",
              "      <td>5.000000e+06</td>\n",
              "      <td>2.033165e+06</td>\n",
              "      <td>63.000000</td>\n",
              "      <td>3.300000</td>\n",
              "      <td>2000.000000</td>\n",
              "    </tr>\n",
              "    <tr>\n",
              "      <th>25%</th>\n",
              "      <td>2.000000e+07</td>\n",
              "      <td>3.456058e+07</td>\n",
              "      <td>97.000000</td>\n",
              "      <td>5.600000</td>\n",
              "      <td>2004.000000</td>\n",
              "    </tr>\n",
              "    <tr>\n",
              "      <th>50%</th>\n",
              "      <td>3.800000e+07</td>\n",
              "      <td>8.361541e+07</td>\n",
              "      <td>107.000000</td>\n",
              "      <td>6.100000</td>\n",
              "      <td>2008.000000</td>\n",
              "    </tr>\n",
              "    <tr>\n",
              "      <th>75%</th>\n",
              "      <td>7.200000e+07</td>\n",
              "      <td>1.782626e+08</td>\n",
              "      <td>120.000000</td>\n",
              "      <td>6.600000</td>\n",
              "      <td>2012.000000</td>\n",
              "    </tr>\n",
              "    <tr>\n",
              "      <th>max</th>\n",
              "      <td>3.800000e+08</td>\n",
              "      <td>2.781506e+09</td>\n",
              "      <td>214.000000</td>\n",
              "      <td>8.100000</td>\n",
              "      <td>2015.000000</td>\n",
              "    </tr>\n",
              "  </tbody>\n",
              "</table>\n",
              "</div>"
            ],
            "text/plain": [
              "             budget       revenue      runtime  vote_average  release_year\n",
              "count  1.889000e+03  1.889000e+03  1889.000000   1889.000000   1889.000000\n",
              "mean   5.431083e+07  1.553653e+08   109.658549      6.140762   2007.860773\n",
              "std    4.858721e+07  2.146698e+08    18.017041      0.764763      4.468841\n",
              "min    5.000000e+06  2.033165e+06    63.000000      3.300000   2000.000000\n",
              "25%    2.000000e+07  3.456058e+07    97.000000      5.600000   2004.000000\n",
              "50%    3.800000e+07  8.361541e+07   107.000000      6.100000   2008.000000\n",
              "75%    7.200000e+07  1.782626e+08   120.000000      6.600000   2012.000000\n",
              "max    3.800000e+08  2.781506e+09   214.000000      8.100000   2015.000000"
            ]
          },
          "metadata": {
            "tags": []
          },
          "execution_count": 182
        }
      ]
    },
    {
      "cell_type": "markdown",
      "metadata": {
        "id": "DTIt7ezGVp-G"
      },
      "source": [
        "# Предобработка\r\n",
        "\\### Preprocessing ###"
      ]
    },
    {
      "cell_type": "code",
      "metadata": {
        "id": "jNb40DwKVp-H"
      },
      "source": [
        "answers = {} # Dictionary for answers\n",
        "\n",
        "# String template for movies in format \"Movie Title (imdb_id)\"\n",
        "str_movie_title = '{} ({})'\n",
        "\n",
        "# Function to fetch title and imdb_id from the Pandas Series\n",
        "# * It is supposed, the Series contains only one line!\n",
        "# * Returns formatted string\n",
        "def get_movie(in_df):\n",
        "  if (in_df.shape[0] == 1):\n",
        "    return str_movie_title.format(in_df.original_title.iloc[0], in_df.iloc[0].imdb_id)\n",
        "  else:\n",
        "    return 'ERROR: DataFrame contains more than one Series!'\n",
        "\n",
        "# Function to explode DataFrame by specific column\n",
        "# * Returns transformed DataFrame\n",
        "def explode_df(in_df, column, separator='|'):\n",
        "  new_df = in_df.copy()\n",
        "  new_df[column] = new_df[column].str.split(separator)\n",
        "  return new_df.explode(column)\n",
        "\n",
        "# Calculating profit as (revenue - budget) and appending related coulumn:\n",
        "data['profit'] = data.revenue - data.budget\n",
        "\n",
        "\n",
        "# Months dictionary :)\n",
        "months = {1: 'Январь',\n",
        "          2: 'Февраль',\n",
        "          3: 'Март',\n",
        "          4: 'Апрель',\n",
        "          5: 'Май',\n",
        "          6: 'Июнь',\n",
        "          7: 'Июль',\n",
        "          8: 'Август',\n",
        "          9: 'Сентябрь',\n",
        "          10: 'Октябрь',\n",
        "          11: 'Ноябрь',\n",
        "          12: 'Декабрь'}"
      ],
      "execution_count": 183,
      "outputs": []
    },
    {
      "cell_type": "markdown",
      "metadata": {
        "id": "YxZaH-nPVp-L"
      },
      "source": [
        "# 1. У какого фильма из списка самый большой бюджет?\r\n",
        "<font color=\"blue\">Which movie has the highest budget?</font>"
      ]
    },
    {
      "cell_type": "code",
      "metadata": {
        "id": "dZwb3m28Vp-S",
        "colab": {
          "base_uri": "https://localhost:8080/",
          "height": 202
        },
        "outputId": "3ea70ebc-7d45-4a79-8c9f-3ac3d04e8db3"
      },
      "source": [
        "# Filter by max budget value\r\n",
        "with_max_budget = data[data.budget == data.budget.max()]\r\n",
        "display(with_max_budget)"
      ],
      "execution_count": 184,
      "outputs": [
        {
          "output_type": "display_data",
          "data": {
            "text/html": [
              "<div>\n",
              "<style scoped>\n",
              "    .dataframe tbody tr th:only-of-type {\n",
              "        vertical-align: middle;\n",
              "    }\n",
              "\n",
              "    .dataframe tbody tr th {\n",
              "        vertical-align: top;\n",
              "    }\n",
              "\n",
              "    .dataframe thead th {\n",
              "        text-align: right;\n",
              "    }\n",
              "</style>\n",
              "<table border=\"1\" class=\"dataframe\">\n",
              "  <thead>\n",
              "    <tr style=\"text-align: right;\">\n",
              "      <th></th>\n",
              "      <th>imdb_id</th>\n",
              "      <th>budget</th>\n",
              "      <th>revenue</th>\n",
              "      <th>original_title</th>\n",
              "      <th>cast</th>\n",
              "      <th>director</th>\n",
              "      <th>tagline</th>\n",
              "      <th>overview</th>\n",
              "      <th>runtime</th>\n",
              "      <th>genres</th>\n",
              "      <th>production_companies</th>\n",
              "      <th>release_date</th>\n",
              "      <th>vote_average</th>\n",
              "      <th>release_year</th>\n",
              "      <th>profit</th>\n",
              "    </tr>\n",
              "  </thead>\n",
              "  <tbody>\n",
              "    <tr>\n",
              "      <th>723</th>\n",
              "      <td>tt1298650</td>\n",
              "      <td>380000000</td>\n",
              "      <td>1021683000</td>\n",
              "      <td>Pirates of the Caribbean: On Stranger Tides</td>\n",
              "      <td>Johnny Depp|PenÃ©lope Cruz|Geoffrey Rush|Ian M...</td>\n",
              "      <td>Rob Marshall</td>\n",
              "      <td>Live Forever Or Die Trying.</td>\n",
              "      <td>Captain Jack Sparrow crosses paths with a woma...</td>\n",
              "      <td>136</td>\n",
              "      <td>Adventure|Action|Fantasy</td>\n",
              "      <td>Walt Disney Pictures|Jerry Bruckheimer Films|M...</td>\n",
              "      <td>5/11/2011</td>\n",
              "      <td>6.3</td>\n",
              "      <td>2011</td>\n",
              "      <td>641683000</td>\n",
              "    </tr>\n",
              "  </tbody>\n",
              "</table>\n",
              "</div>"
            ],
            "text/plain": [
              "       imdb_id     budget     revenue  ... vote_average release_year     profit\n",
              "723  tt1298650  380000000  1021683000  ...          6.3         2011  641683000\n",
              "\n",
              "[1 rows x 15 columns]"
            ]
          },
          "metadata": {
            "tags": []
          }
        }
      ]
    },
    {
      "cell_type": "code",
      "metadata": {
        "id": "0XwT4CBDtq5Y"
      },
      "source": [
        "answers['1'] = get_movie(with_max_budget)"
      ],
      "execution_count": 185,
      "outputs": []
    },
    {
      "cell_type": "markdown",
      "metadata": {
        "id": "K7L3nbRXVp-X"
      },
      "source": [
        "<font color=\"blue\">OPTION 2</font>"
      ]
    },
    {
      "cell_type": "code",
      "metadata": {
        "id": "OGaoQI7rVp-X",
        "colab": {
          "base_uri": "https://localhost:8080/",
          "height": 202
        },
        "outputId": "4d8a74b5-199a-46e3-f140-e2ad1fd935bb"
      },
      "source": [
        "# Sort descending, then take first\r\n",
        "data.sort_values('budget', ascending=False).head(1)"
      ],
      "execution_count": 186,
      "outputs": [
        {
          "output_type": "execute_result",
          "data": {
            "text/html": [
              "<div>\n",
              "<style scoped>\n",
              "    .dataframe tbody tr th:only-of-type {\n",
              "        vertical-align: middle;\n",
              "    }\n",
              "\n",
              "    .dataframe tbody tr th {\n",
              "        vertical-align: top;\n",
              "    }\n",
              "\n",
              "    .dataframe thead th {\n",
              "        text-align: right;\n",
              "    }\n",
              "</style>\n",
              "<table border=\"1\" class=\"dataframe\">\n",
              "  <thead>\n",
              "    <tr style=\"text-align: right;\">\n",
              "      <th></th>\n",
              "      <th>imdb_id</th>\n",
              "      <th>budget</th>\n",
              "      <th>revenue</th>\n",
              "      <th>original_title</th>\n",
              "      <th>cast</th>\n",
              "      <th>director</th>\n",
              "      <th>tagline</th>\n",
              "      <th>overview</th>\n",
              "      <th>runtime</th>\n",
              "      <th>genres</th>\n",
              "      <th>production_companies</th>\n",
              "      <th>release_date</th>\n",
              "      <th>vote_average</th>\n",
              "      <th>release_year</th>\n",
              "      <th>profit</th>\n",
              "    </tr>\n",
              "  </thead>\n",
              "  <tbody>\n",
              "    <tr>\n",
              "      <th>723</th>\n",
              "      <td>tt1298650</td>\n",
              "      <td>380000000</td>\n",
              "      <td>1021683000</td>\n",
              "      <td>Pirates of the Caribbean: On Stranger Tides</td>\n",
              "      <td>Johnny Depp|PenÃ©lope Cruz|Geoffrey Rush|Ian M...</td>\n",
              "      <td>Rob Marshall</td>\n",
              "      <td>Live Forever Or Die Trying.</td>\n",
              "      <td>Captain Jack Sparrow crosses paths with a woma...</td>\n",
              "      <td>136</td>\n",
              "      <td>Adventure|Action|Fantasy</td>\n",
              "      <td>Walt Disney Pictures|Jerry Bruckheimer Films|M...</td>\n",
              "      <td>5/11/2011</td>\n",
              "      <td>6.3</td>\n",
              "      <td>2011</td>\n",
              "      <td>641683000</td>\n",
              "    </tr>\n",
              "  </tbody>\n",
              "</table>\n",
              "</div>"
            ],
            "text/plain": [
              "       imdb_id     budget     revenue  ... vote_average release_year     profit\n",
              "723  tt1298650  380000000  1021683000  ...          6.3         2011  641683000\n",
              "\n",
              "[1 rows x 15 columns]"
            ]
          },
          "metadata": {
            "tags": []
          },
          "execution_count": 186
        }
      ]
    },
    {
      "cell_type": "markdown",
      "metadata": {
        "id": "FNRbbI3vVp-c"
      },
      "source": [
        "# 2. Какой из фильмов самый длительный (в минутах)?\r\n",
        "\r\n",
        "<font color=\"blue\">Which movie has the highest running length?</font>"
      ]
    },
    {
      "cell_type": "code",
      "metadata": {
        "id": "ot-VX2XrVp-g",
        "colab": {
          "base_uri": "https://localhost:8080/",
          "height": 202
        },
        "outputId": "1a982659-55be-46bf-9998-2efa0b0d65b8"
      },
      "source": [
        "with_max_runtime = data[data.runtime == data.runtime.max()]\r\n",
        "display(with_max_runtime)"
      ],
      "execution_count": 187,
      "outputs": [
        {
          "output_type": "display_data",
          "data": {
            "text/html": [
              "<div>\n",
              "<style scoped>\n",
              "    .dataframe tbody tr th:only-of-type {\n",
              "        vertical-align: middle;\n",
              "    }\n",
              "\n",
              "    .dataframe tbody tr th {\n",
              "        vertical-align: top;\n",
              "    }\n",
              "\n",
              "    .dataframe thead th {\n",
              "        text-align: right;\n",
              "    }\n",
              "</style>\n",
              "<table border=\"1\" class=\"dataframe\">\n",
              "  <thead>\n",
              "    <tr style=\"text-align: right;\">\n",
              "      <th></th>\n",
              "      <th>imdb_id</th>\n",
              "      <th>budget</th>\n",
              "      <th>revenue</th>\n",
              "      <th>original_title</th>\n",
              "      <th>cast</th>\n",
              "      <th>director</th>\n",
              "      <th>tagline</th>\n",
              "      <th>overview</th>\n",
              "      <th>runtime</th>\n",
              "      <th>genres</th>\n",
              "      <th>production_companies</th>\n",
              "      <th>release_date</th>\n",
              "      <th>vote_average</th>\n",
              "      <th>release_year</th>\n",
              "      <th>profit</th>\n",
              "    </tr>\n",
              "  </thead>\n",
              "  <tbody>\n",
              "    <tr>\n",
              "      <th>1157</th>\n",
              "      <td>tt0279111</td>\n",
              "      <td>56000000</td>\n",
              "      <td>12923936</td>\n",
              "      <td>Gods and Generals</td>\n",
              "      <td>Stephen Lang|Jeff Daniels|Robert Duvall|Kevin ...</td>\n",
              "      <td>Ronald F. Maxwell</td>\n",
              "      <td>The nations heart was touched by...</td>\n",
              "      <td>The film centers mostly around the personal an...</td>\n",
              "      <td>214</td>\n",
              "      <td>Drama|History|War</td>\n",
              "      <td>Turner Pictures|Antietam Filmworks</td>\n",
              "      <td>2/21/2003</td>\n",
              "      <td>5.8</td>\n",
              "      <td>2003</td>\n",
              "      <td>-43076064</td>\n",
              "    </tr>\n",
              "  </tbody>\n",
              "</table>\n",
              "</div>"
            ],
            "text/plain": [
              "        imdb_id    budget   revenue  ... vote_average release_year    profit\n",
              "1157  tt0279111  56000000  12923936  ...          5.8         2003 -43076064\n",
              "\n",
              "[1 rows x 15 columns]"
            ]
          },
          "metadata": {
            "tags": []
          }
        }
      ]
    },
    {
      "cell_type": "code",
      "metadata": {
        "id": "H595330TzO6A"
      },
      "source": [
        "answers['2'] = get_movie(with_max_runtime)"
      ],
      "execution_count": 188,
      "outputs": []
    },
    {
      "cell_type": "markdown",
      "metadata": {
        "id": "bapLlpW8Vp-k"
      },
      "source": [
        "# 3. Какой из фильмов самый короткий (в минутах)?\n",
        "\n",
        "<font color=\"blue\">Which movie has the lowest running length?</font>\n",
        "\n"
      ]
    },
    {
      "cell_type": "code",
      "metadata": {
        "id": "Wa13VWNffdoX",
        "colab": {
          "base_uri": "https://localhost:8080/",
          "height": 202
        },
        "outputId": "6e405b73-6e42-4fe7-b9c6-60db03100f1a"
      },
      "source": [
        "with_min_runtime = data[data.runtime == data.runtime.min()]\r\n",
        "display(with_min_runtime)"
      ],
      "execution_count": 189,
      "outputs": [
        {
          "output_type": "display_data",
          "data": {
            "text/html": [
              "<div>\n",
              "<style scoped>\n",
              "    .dataframe tbody tr th:only-of-type {\n",
              "        vertical-align: middle;\n",
              "    }\n",
              "\n",
              "    .dataframe tbody tr th {\n",
              "        vertical-align: top;\n",
              "    }\n",
              "\n",
              "    .dataframe thead th {\n",
              "        text-align: right;\n",
              "    }\n",
              "</style>\n",
              "<table border=\"1\" class=\"dataframe\">\n",
              "  <thead>\n",
              "    <tr style=\"text-align: right;\">\n",
              "      <th></th>\n",
              "      <th>imdb_id</th>\n",
              "      <th>budget</th>\n",
              "      <th>revenue</th>\n",
              "      <th>original_title</th>\n",
              "      <th>cast</th>\n",
              "      <th>director</th>\n",
              "      <th>tagline</th>\n",
              "      <th>overview</th>\n",
              "      <th>runtime</th>\n",
              "      <th>genres</th>\n",
              "      <th>production_companies</th>\n",
              "      <th>release_date</th>\n",
              "      <th>vote_average</th>\n",
              "      <th>release_year</th>\n",
              "      <th>profit</th>\n",
              "    </tr>\n",
              "  </thead>\n",
              "  <tbody>\n",
              "    <tr>\n",
              "      <th>768</th>\n",
              "      <td>tt1449283</td>\n",
              "      <td>30000000</td>\n",
              "      <td>14460000</td>\n",
              "      <td>Winnie the Pooh</td>\n",
              "      <td>Jim Cummings|Travis Oates|Jim Cummings|Bud Luc...</td>\n",
              "      <td>Stephen Anderson|Don Hall</td>\n",
              "      <td>Oh Pooh.</td>\n",
              "      <td>During an ordinary day in Hundred Acre Wood, W...</td>\n",
              "      <td>63</td>\n",
              "      <td>Animation|Family</td>\n",
              "      <td>Walt Disney Pictures|Walt Disney Animation Stu...</td>\n",
              "      <td>4/13/2011</td>\n",
              "      <td>6.8</td>\n",
              "      <td>2011</td>\n",
              "      <td>-15540000</td>\n",
              "    </tr>\n",
              "  </tbody>\n",
              "</table>\n",
              "</div>"
            ],
            "text/plain": [
              "       imdb_id    budget   revenue  ... vote_average release_year    profit\n",
              "768  tt1449283  30000000  14460000  ...          6.8         2011 -15540000\n",
              "\n",
              "[1 rows x 15 columns]"
            ]
          },
          "metadata": {
            "tags": []
          }
        }
      ]
    },
    {
      "cell_type": "code",
      "metadata": {
        "id": "YBxaSHuAVp-l"
      },
      "source": [
        "answers['3'] = get_movie(with_min_runtime)"
      ],
      "execution_count": 190,
      "outputs": []
    },
    {
      "cell_type": "markdown",
      "metadata": {
        "id": "TfQbxbfNVp-p"
      },
      "source": [
        "# 4. Какова средняя длительность фильмов?\n",
        "\n",
        "<font color=\"blue\">What is the average movies running length?</font>"
      ]
    },
    {
      "cell_type": "code",
      "metadata": {
        "id": "5K6dKZYVVp-q",
        "colab": {
          "base_uri": "https://localhost:8080/"
        },
        "outputId": "b8488854-981b-4b68-d6ac-6bc90a5c24ce"
      },
      "source": [
        "# Call mean by runtime and round (to match the suggested answers)\r\n",
        "runtime_mean = data.runtime.mean()\r\n",
        "print(runtime_mean)"
      ],
      "execution_count": 191,
      "outputs": [
        {
          "output_type": "stream",
          "text": [
            "109.6585494970884\n"
          ],
          "name": "stdout"
        }
      ]
    },
    {
      "cell_type": "code",
      "metadata": {
        "id": "FHfnHg8ck0cU"
      },
      "source": [
        "answers['4'] = round(runtime_mean)"
      ],
      "execution_count": 192,
      "outputs": []
    },
    {
      "cell_type": "markdown",
      "metadata": {
        "id": "r5TvbnT_Vp-u"
      },
      "source": [
        "# 5. Каково медианное значение длительности фильмов?\r\n",
        "\r\n",
        "<font color=\"blue\">What is the median value of movies running length?</font>"
      ]
    },
    {
      "cell_type": "code",
      "metadata": {
        "id": "iBROplKnVp-v",
        "colab": {
          "base_uri": "https://localhost:8080/"
        },
        "outputId": "6ba7047a-ae19-4131-a1d2-a2813d689266"
      },
      "source": [
        "runtime_median = data.runtime.agg('median')\r\n",
        "print(runtime_median)"
      ],
      "execution_count": 193,
      "outputs": [
        {
          "output_type": "stream",
          "text": [
            "107.0\n"
          ],
          "name": "stdout"
        }
      ]
    },
    {
      "cell_type": "code",
      "metadata": {
        "id": "JyoHpBWjlgZ6"
      },
      "source": [
        "answers['5'] = round(runtime_median)"
      ],
      "execution_count": 194,
      "outputs": []
    },
    {
      "cell_type": "markdown",
      "metadata": {
        "id": "vERvzN7IpPR8"
      },
      "source": [
        "# ------------------------------------------------------------------------------"
      ]
    },
    {
      "cell_type": "markdown",
      "metadata": {
        "id": "39P-deDSVp-y"
      },
      "source": [
        "# 6. Какой самый прибыльный фильм?\n",
        "#### Внимание! Здесь и далее под «прибылью» или «убытками» понимается разность между сборами и бюджетом фильма. (прибыль = сборы - бюджет) в нашем датасете это будет (profit = revenue - budget)\n",
        "\n",
        "<font color=\"blue\">Which movie is the most profitable?</font>"
      ]
    },
    {
      "cell_type": "code",
      "metadata": {
        "id": "UYZh4T9WVp-y",
        "colab": {
          "base_uri": "https://localhost:8080/",
          "height": 185
        },
        "outputId": "39d0c8e2-6149-4672-c59a-f83fad1d6e4b"
      },
      "source": [
        "most_profitable = data[data.profit == data.profit.max()]\r\n",
        "display(most_profitable)"
      ],
      "execution_count": 195,
      "outputs": [
        {
          "output_type": "display_data",
          "data": {
            "text/html": [
              "<div>\n",
              "<style scoped>\n",
              "    .dataframe tbody tr th:only-of-type {\n",
              "        vertical-align: middle;\n",
              "    }\n",
              "\n",
              "    .dataframe tbody tr th {\n",
              "        vertical-align: top;\n",
              "    }\n",
              "\n",
              "    .dataframe thead th {\n",
              "        text-align: right;\n",
              "    }\n",
              "</style>\n",
              "<table border=\"1\" class=\"dataframe\">\n",
              "  <thead>\n",
              "    <tr style=\"text-align: right;\">\n",
              "      <th></th>\n",
              "      <th>imdb_id</th>\n",
              "      <th>budget</th>\n",
              "      <th>revenue</th>\n",
              "      <th>original_title</th>\n",
              "      <th>cast</th>\n",
              "      <th>director</th>\n",
              "      <th>tagline</th>\n",
              "      <th>overview</th>\n",
              "      <th>runtime</th>\n",
              "      <th>genres</th>\n",
              "      <th>production_companies</th>\n",
              "      <th>release_date</th>\n",
              "      <th>vote_average</th>\n",
              "      <th>release_year</th>\n",
              "      <th>profit</th>\n",
              "    </tr>\n",
              "  </thead>\n",
              "  <tbody>\n",
              "    <tr>\n",
              "      <th>239</th>\n",
              "      <td>tt0499549</td>\n",
              "      <td>237000000</td>\n",
              "      <td>2781505847</td>\n",
              "      <td>Avatar</td>\n",
              "      <td>Sam Worthington|Zoe Saldana|Sigourney Weaver|S...</td>\n",
              "      <td>James Cameron</td>\n",
              "      <td>Enter the World of Pandora.</td>\n",
              "      <td>In the 22nd century, a paraplegic Marine is di...</td>\n",
              "      <td>162</td>\n",
              "      <td>Action|Adventure|Fantasy|Science Fiction</td>\n",
              "      <td>Ingenious Film Partners|Twentieth Century Fox ...</td>\n",
              "      <td>12/10/2009</td>\n",
              "      <td>7.1</td>\n",
              "      <td>2009</td>\n",
              "      <td>2544505847</td>\n",
              "    </tr>\n",
              "  </tbody>\n",
              "</table>\n",
              "</div>"
            ],
            "text/plain": [
              "       imdb_id     budget     revenue  ... vote_average release_year      profit\n",
              "239  tt0499549  237000000  2781505847  ...          7.1         2009  2544505847\n",
              "\n",
              "[1 rows x 15 columns]"
            ]
          },
          "metadata": {
            "tags": []
          }
        }
      ]
    },
    {
      "cell_type": "code",
      "metadata": {
        "id": "m0dALYtNlm7O"
      },
      "source": [
        "answers['6'] = get_movie(most_profitable)"
      ],
      "execution_count": 196,
      "outputs": []
    },
    {
      "cell_type": "markdown",
      "metadata": {
        "id": "M99JmIX4Vp-2"
      },
      "source": [
        "# 7. Какой фильм самый убыточный?\r\n",
        "\r\n",
        "<font color=\"blue\">Which movie is the most unprofitable</font>"
      ]
    },
    {
      "cell_type": "code",
      "metadata": {
        "id": "w-D2m4XPVp-3",
        "colab": {
          "base_uri": "https://localhost:8080/",
          "height": 202
        },
        "outputId": "7eac9306-9edf-4258-cc24-2af0ac92e59c"
      },
      "source": [
        "most_unprofitable = data[data.profit == data.profit.min()]\r\n",
        "display(most_unprofitable)"
      ],
      "execution_count": 197,
      "outputs": [
        {
          "output_type": "display_data",
          "data": {
            "text/html": [
              "<div>\n",
              "<style scoped>\n",
              "    .dataframe tbody tr th:only-of-type {\n",
              "        vertical-align: middle;\n",
              "    }\n",
              "\n",
              "    .dataframe tbody tr th {\n",
              "        vertical-align: top;\n",
              "    }\n",
              "\n",
              "    .dataframe thead th {\n",
              "        text-align: right;\n",
              "    }\n",
              "</style>\n",
              "<table border=\"1\" class=\"dataframe\">\n",
              "  <thead>\n",
              "    <tr style=\"text-align: right;\">\n",
              "      <th></th>\n",
              "      <th>imdb_id</th>\n",
              "      <th>budget</th>\n",
              "      <th>revenue</th>\n",
              "      <th>original_title</th>\n",
              "      <th>cast</th>\n",
              "      <th>director</th>\n",
              "      <th>tagline</th>\n",
              "      <th>overview</th>\n",
              "      <th>runtime</th>\n",
              "      <th>genres</th>\n",
              "      <th>production_companies</th>\n",
              "      <th>release_date</th>\n",
              "      <th>vote_average</th>\n",
              "      <th>release_year</th>\n",
              "      <th>profit</th>\n",
              "    </tr>\n",
              "  </thead>\n",
              "  <tbody>\n",
              "    <tr>\n",
              "      <th>1245</th>\n",
              "      <td>tt1210819</td>\n",
              "      <td>255000000</td>\n",
              "      <td>89289910</td>\n",
              "      <td>The Lone Ranger</td>\n",
              "      <td>Johnny Depp|Armie Hammer|William Fichtner|Hele...</td>\n",
              "      <td>Gore Verbinski</td>\n",
              "      <td>Never Take Off the Mask</td>\n",
              "      <td>The Texas Rangers chase down a gang of outlaws...</td>\n",
              "      <td>149</td>\n",
              "      <td>Action|Adventure|Western</td>\n",
              "      <td>Walt Disney Pictures|Jerry Bruckheimer Films|I...</td>\n",
              "      <td>7/3/2013</td>\n",
              "      <td>6.0</td>\n",
              "      <td>2013</td>\n",
              "      <td>-165710090</td>\n",
              "    </tr>\n",
              "  </tbody>\n",
              "</table>\n",
              "</div>"
            ],
            "text/plain": [
              "        imdb_id     budget   revenue  ... vote_average release_year     profit\n",
              "1245  tt1210819  255000000  89289910  ...          6.0         2013 -165710090\n",
              "\n",
              "[1 rows x 15 columns]"
            ]
          },
          "metadata": {
            "tags": []
          }
        }
      ]
    },
    {
      "cell_type": "code",
      "metadata": {
        "id": "Tp3gXUIxl0xe"
      },
      "source": [
        "answers['7'] = get_movie(most_unprofitable)"
      ],
      "execution_count": 198,
      "outputs": []
    },
    {
      "cell_type": "markdown",
      "metadata": {
        "id": "wEOM5ERVVp-6"
      },
      "source": [
        "# 8. У скольких фильмов из датасета объем сборов оказался выше бюджета?\r\n",
        "\r\n",
        "<font color=\"blue\">How many movies' revenue appeared to be higher than budget?</font>"
      ]
    },
    {
      "cell_type": "code",
      "metadata": {
        "id": "y00_7HD6Vp-7",
        "colab": {
          "base_uri": "https://localhost:8080/"
        },
        "outputId": "37d6f8b2-ebc6-4632-eac6-f0b3161ef643"
      },
      "source": [
        "# Filter by condition and count ids\r\n",
        "count_revenue_gt_budget = data[data.revenue > data.budget].imdb_id.count()\r\n",
        "print(count_revenue_gt_budget)"
      ],
      "execution_count": 199,
      "outputs": [
        {
          "output_type": "stream",
          "text": [
            "1478\n"
          ],
          "name": "stdout"
        }
      ]
    },
    {
      "cell_type": "code",
      "metadata": {
        "id": "WY_T7R7LmsPn"
      },
      "source": [
        "answers['8'] = count_revenue_gt_budget"
      ],
      "execution_count": 200,
      "outputs": []
    },
    {
      "cell_type": "markdown",
      "metadata": {
        "id": "xhpspA9KVp_A"
      },
      "source": [
        "# 9. Какой фильм оказался самым кассовым в 2008 году?\r\n",
        "\r\n",
        "<font color=\"blue\">Which was the highest grossing movie in 2008?</font>"
      ]
    },
    {
      "cell_type": "code",
      "metadata": {
        "id": "MoUyQr9RVp_B",
        "colab": {
          "base_uri": "https://localhost:8080/",
          "height": 185
        },
        "outputId": "3be1aaf2-010b-4bb7-a998-305026876ae5"
      },
      "source": [
        "# Get movies released in between 2008\r\n",
        "released_2008 = data[data.release_year == 2008]\r\n",
        "# Take with highest revenue\r\n",
        "highest_box_office_in_2008 = released_2008[released_2008.revenue == released_2008.revenue.max()]\r\n",
        "display(highest_box_office_in_2008)"
      ],
      "execution_count": 201,
      "outputs": [
        {
          "output_type": "display_data",
          "data": {
            "text/html": [
              "<div>\n",
              "<style scoped>\n",
              "    .dataframe tbody tr th:only-of-type {\n",
              "        vertical-align: middle;\n",
              "    }\n",
              "\n",
              "    .dataframe tbody tr th {\n",
              "        vertical-align: top;\n",
              "    }\n",
              "\n",
              "    .dataframe thead th {\n",
              "        text-align: right;\n",
              "    }\n",
              "</style>\n",
              "<table border=\"1\" class=\"dataframe\">\n",
              "  <thead>\n",
              "    <tr style=\"text-align: right;\">\n",
              "      <th></th>\n",
              "      <th>imdb_id</th>\n",
              "      <th>budget</th>\n",
              "      <th>revenue</th>\n",
              "      <th>original_title</th>\n",
              "      <th>cast</th>\n",
              "      <th>director</th>\n",
              "      <th>tagline</th>\n",
              "      <th>overview</th>\n",
              "      <th>runtime</th>\n",
              "      <th>genres</th>\n",
              "      <th>production_companies</th>\n",
              "      <th>release_date</th>\n",
              "      <th>vote_average</th>\n",
              "      <th>release_year</th>\n",
              "      <th>profit</th>\n",
              "    </tr>\n",
              "  </thead>\n",
              "  <tbody>\n",
              "    <tr>\n",
              "      <th>599</th>\n",
              "      <td>tt0468569</td>\n",
              "      <td>185000000</td>\n",
              "      <td>1001921825</td>\n",
              "      <td>The Dark Knight</td>\n",
              "      <td>Christian Bale|Michael Caine|Heath Ledger|Aaro...</td>\n",
              "      <td>Christopher Nolan</td>\n",
              "      <td>Why So Serious?</td>\n",
              "      <td>Batman raises the stakes in his war on crime. ...</td>\n",
              "      <td>152</td>\n",
              "      <td>Drama|Action|Crime|Thriller</td>\n",
              "      <td>DC Comics|Legendary Pictures|Warner Bros.|Syncopy</td>\n",
              "      <td>7/16/2008</td>\n",
              "      <td>8.1</td>\n",
              "      <td>2008</td>\n",
              "      <td>816921825</td>\n",
              "    </tr>\n",
              "  </tbody>\n",
              "</table>\n",
              "</div>"
            ],
            "text/plain": [
              "       imdb_id     budget     revenue  ... vote_average release_year     profit\n",
              "599  tt0468569  185000000  1001921825  ...          8.1         2008  816921825\n",
              "\n",
              "[1 rows x 15 columns]"
            ]
          },
          "metadata": {
            "tags": []
          }
        }
      ]
    },
    {
      "cell_type": "code",
      "metadata": {
        "id": "d4xFFGKnnLs_"
      },
      "source": [
        "answers['9'] = get_movie(highest_box_office_in_2008)"
      ],
      "execution_count": 202,
      "outputs": []
    },
    {
      "cell_type": "markdown",
      "metadata": {
        "id": "Zi4hDKidVp_F"
      },
      "source": [
        "# 10. Самый убыточный фильм за период с 2012 по 2014 г. (включительно)?\n",
        "\n",
        "<font color=\"blue\">Which was the most unprofitable movie in between 2012 and 2014 (inclusive)?</font>"
      ]
    },
    {
      "cell_type": "code",
      "metadata": {
        "id": "XqyRmufJVp_F",
        "colab": {
          "base_uri": "https://localhost:8080/",
          "height": 202
        },
        "outputId": "a1ca5729-7628-428c-bac9-8ccd1d011a69"
      },
      "source": [
        "# Get movies released in between 2012 and 2014\r\n",
        "released_2012_2014 = data[(data.release_year >= 2012) & (data.release_year <= 2014)]\r\n",
        "# Take with least profit\r\n",
        "most_unprofitable_in_2012_2014 = released_2012_2014[released_2012_2014.profit == released_2012_2014.profit.min()]\r\n",
        "display(most_unprofitable_in_2012_2014)"
      ],
      "execution_count": 203,
      "outputs": [
        {
          "output_type": "display_data",
          "data": {
            "text/html": [
              "<div>\n",
              "<style scoped>\n",
              "    .dataframe tbody tr th:only-of-type {\n",
              "        vertical-align: middle;\n",
              "    }\n",
              "\n",
              "    .dataframe tbody tr th {\n",
              "        vertical-align: top;\n",
              "    }\n",
              "\n",
              "    .dataframe thead th {\n",
              "        text-align: right;\n",
              "    }\n",
              "</style>\n",
              "<table border=\"1\" class=\"dataframe\">\n",
              "  <thead>\n",
              "    <tr style=\"text-align: right;\">\n",
              "      <th></th>\n",
              "      <th>imdb_id</th>\n",
              "      <th>budget</th>\n",
              "      <th>revenue</th>\n",
              "      <th>original_title</th>\n",
              "      <th>cast</th>\n",
              "      <th>director</th>\n",
              "      <th>tagline</th>\n",
              "      <th>overview</th>\n",
              "      <th>runtime</th>\n",
              "      <th>genres</th>\n",
              "      <th>production_companies</th>\n",
              "      <th>release_date</th>\n",
              "      <th>vote_average</th>\n",
              "      <th>release_year</th>\n",
              "      <th>profit</th>\n",
              "    </tr>\n",
              "  </thead>\n",
              "  <tbody>\n",
              "    <tr>\n",
              "      <th>1245</th>\n",
              "      <td>tt1210819</td>\n",
              "      <td>255000000</td>\n",
              "      <td>89289910</td>\n",
              "      <td>The Lone Ranger</td>\n",
              "      <td>Johnny Depp|Armie Hammer|William Fichtner|Hele...</td>\n",
              "      <td>Gore Verbinski</td>\n",
              "      <td>Never Take Off the Mask</td>\n",
              "      <td>The Texas Rangers chase down a gang of outlaws...</td>\n",
              "      <td>149</td>\n",
              "      <td>Action|Adventure|Western</td>\n",
              "      <td>Walt Disney Pictures|Jerry Bruckheimer Films|I...</td>\n",
              "      <td>7/3/2013</td>\n",
              "      <td>6.0</td>\n",
              "      <td>2013</td>\n",
              "      <td>-165710090</td>\n",
              "    </tr>\n",
              "  </tbody>\n",
              "</table>\n",
              "</div>"
            ],
            "text/plain": [
              "        imdb_id     budget   revenue  ... vote_average release_year     profit\n",
              "1245  tt1210819  255000000  89289910  ...          6.0         2013 -165710090\n",
              "\n",
              "[1 rows x 15 columns]"
            ]
          },
          "metadata": {
            "tags": []
          }
        }
      ]
    },
    {
      "cell_type": "code",
      "metadata": {
        "id": "CsvwVC3XoGrR"
      },
      "source": [
        "answers['10'] = get_movie(most_unprofitable_in_2012_2014)"
      ],
      "execution_count": 204,
      "outputs": []
    },
    {
      "cell_type": "markdown",
      "metadata": {
        "id": "MDo49JdXpIf1"
      },
      "source": [
        "# ------------------------------------------------------------------------------"
      ]
    },
    {
      "cell_type": "markdown",
      "metadata": {
        "id": "EA7Sa9dkVp_I"
      },
      "source": [
        "# 11. Какого жанра фильмов больше всего?\r\n",
        "\r\n",
        "<font color=\"blue\">What is the most common genre of movies?</font>"
      ]
    },
    {
      "cell_type": "code",
      "metadata": {
        "id": "zsJAwJ8QVp_J",
        "colab": {
          "base_uri": "https://localhost:8080/",
          "height": 357
        },
        "outputId": "c3e1f8f4-2b1b-4246-b0be-a5837f88d339"
      },
      "source": [
        "# Take just genres and split all by vertical line (results in series of lists),\n",
        "# then explode to series of all (even repeating) genres with replicated ids\n",
        "# finally just count occurrences of each, answer is at the top\n",
        "genres_count = data.genres.str.split('|').explode().value_counts()\n",
        "display(genres_count)"
      ],
      "execution_count": 205,
      "outputs": [
        {
          "output_type": "display_data",
          "data": {
            "text/plain": [
              "Drama              782\n",
              "Comedy             683\n",
              "Thriller           596\n",
              "Action             582\n",
              "Adventure          415\n",
              "Crime              315\n",
              "Romance            308\n",
              "Family             260\n",
              "Science Fiction    248\n",
              "Fantasy            222\n",
              "Horror             176\n",
              "Mystery            168\n",
              "Animation          139\n",
              "Music               64\n",
              "History             62\n",
              "War                 58\n",
              "Western             19\n",
              "Documentary          8\n",
              "Foreign              2\n",
              "Name: genres, dtype: int64"
            ]
          },
          "metadata": {
            "tags": []
          }
        }
      ]
    },
    {
      "cell_type": "code",
      "metadata": {
        "id": "v9z7XD0vixKE"
      },
      "source": [
        "answers['11'] = genres_count.idxmax()"
      ],
      "execution_count": 206,
      "outputs": []
    },
    {
      "cell_type": "markdown",
      "metadata": {
        "id": "Ax6g2C8SVp_M"
      },
      "source": [
        "<font color=\"blue\">OPTION 2</font>"
      ]
    },
    {
      "cell_type": "code",
      "metadata": {
        "id": "otO3SbrSVp_N",
        "colab": {
          "base_uri": "https://localhost:8080/"
        },
        "outputId": "2f851cc3-1903-4440-d0d3-7055610c5f81"
      },
      "source": [
        "# Create series from flat list, then count \r\n",
        "pd.Series(data.genres.str.cat(sep='|').split('|')).value_counts()"
      ],
      "execution_count": 207,
      "outputs": [
        {
          "output_type": "execute_result",
          "data": {
            "text/plain": [
              "Drama              782\n",
              "Comedy             683\n",
              "Thriller           596\n",
              "Action             582\n",
              "Adventure          415\n",
              "Crime              315\n",
              "Romance            308\n",
              "Family             260\n",
              "Science Fiction    248\n",
              "Fantasy            222\n",
              "Horror             176\n",
              "Mystery            168\n",
              "Animation          139\n",
              "Music               64\n",
              "History             62\n",
              "War                 58\n",
              "Western             19\n",
              "Documentary          8\n",
              "Foreign              2\n",
              "dtype: int64"
            ]
          },
          "metadata": {
            "tags": []
          },
          "execution_count": 207
        }
      ]
    },
    {
      "cell_type": "markdown",
      "metadata": {
        "id": "T9_bPWpkVp_Q"
      },
      "source": [
        "# 12. Фильмы какого жанра чаще всего становятся прибыльными?\r\n",
        "\r\n",
        "<font color=\"blue\">Movies of which genre are the most profitable?</font>"
      ]
    },
    {
      "cell_type": "code",
      "metadata": {
        "id": "Tmt8MaK1Vp_R",
        "colab": {
          "base_uri": "https://localhost:8080/",
          "height": 340
        },
        "outputId": "0dc32436-3e71-41e0-c65c-4fe676ef979b"
      },
      "source": [
        "# Same as previous, but take only movies with positive profit\r\n",
        "profitable_genres = data[data.profit > 0].genres.str.split('|').explode().value_counts()\r\n",
        "display(profitable_genres)"
      ],
      "execution_count": 208,
      "outputs": [
        {
          "output_type": "display_data",
          "data": {
            "text/plain": [
              "Drama              560\n",
              "Comedy             551\n",
              "Thriller           446\n",
              "Action             444\n",
              "Adventure          337\n",
              "Romance            242\n",
              "Crime              231\n",
              "Family             226\n",
              "Science Fiction    195\n",
              "Fantasy            188\n",
              "Horror             150\n",
              "Animation          120\n",
              "Mystery            119\n",
              "Music               47\n",
              "History             46\n",
              "War                 41\n",
              "Western             12\n",
              "Documentary          7\n",
              "Name: genres, dtype: int64"
            ]
          },
          "metadata": {
            "tags": []
          }
        }
      ]
    },
    {
      "cell_type": "code",
      "metadata": {
        "id": "qA73psQuZ3H5"
      },
      "source": [
        "answers['12'] = profitable_genres.idxmax()"
      ],
      "execution_count": 209,
      "outputs": []
    },
    {
      "cell_type": "markdown",
      "metadata": {
        "id": "0F23bgsDVp_U"
      },
      "source": [
        "# 13. У какого режиссера самые большие суммарные кассовые сборы?\r\n",
        "\r\n",
        "<font color=\"blue\">Which movie director has the highest sum of revenue?</font>"
      ]
    },
    {
      "cell_type": "code",
      "metadata": {
        "id": "K6Z3J8ygVp_X",
        "colab": {
          "base_uri": "https://localhost:8080/",
          "height": 238
        },
        "outputId": "75977ab4-6023-41e4-a106-050e06d03b4d"
      },
      "source": [
        "# Using explode_df(...) function defined in ### Preprocessing ### section above,\r\n",
        "# then group, summarize revenue and sort, the answer is at the top\r\n",
        "directors_with_most_revenue = explode_df(data,'director').groupby('director').revenue.sum().sort_values(ascending=False)\r\n",
        "display(directors_with_most_revenue)"
      ],
      "execution_count": 210,
      "outputs": [
        {
          "output_type": "display_data",
          "data": {
            "text/plain": [
              "director\n",
              "Peter Jackson        6490593685\n",
              "Christopher Nolan    4167548502\n",
              "David Yates          4154295625\n",
              "Michael Bay          3886938960\n",
              "J.J. Abrams          3579169916\n",
              "                        ...    \n",
              "David MichÃ´d           2295423\n",
              "Steven Shainberg        2281089\n",
              "Paul Schrader           2062066\n",
              "Keanu Reeves            2054941\n",
              "Simon Hunter            2033165\n",
              "Name: revenue, Length: 997, dtype: int64"
            ]
          },
          "metadata": {
            "tags": []
          }
        }
      ]
    },
    {
      "cell_type": "code",
      "metadata": {
        "id": "8FdDgIAtaGG8"
      },
      "source": [
        "answers['13'] = directors_with_most_revenue.idxmax()"
      ],
      "execution_count": 211,
      "outputs": []
    },
    {
      "cell_type": "markdown",
      "metadata": {
        "id": "PsYC9FgRVp_a"
      },
      "source": [
        "# 14. Какой режиссер снял больше всего фильмов в стиле Action?\r\n",
        "\r\n",
        "<font color=\"blue\">Which movie director filmed the most movies of Action genre?</font>"
      ]
    },
    {
      "cell_type": "code",
      "metadata": {
        "id": "wd2M-wHeVp_b",
        "colab": {
          "base_uri": "https://localhost:8080/",
          "height": 238
        },
        "outputId": "8764b100-602a-4f82-df4c-23bc886ee630"
      },
      "source": [
        "# First, filter action movies only\r\n",
        "action_movies = data[data.genres.str.contains('Action')]\r\n",
        "# Now explode them by director, count and sort\r\n",
        "action_directors = explode_df(action_movies,'director').groupby('director').size().sort_values(ascending=False)\r\n",
        "display(action_directors)"
      ],
      "execution_count": 212,
      "outputs": [
        {
          "output_type": "display_data",
          "data": {
            "text/plain": [
              "director\n",
              "Robert Rodriguez      9\n",
              "Paul W.S. Anderson    7\n",
              "Michael Bay           7\n",
              "Ridley Scott          6\n",
              "Antoine Fuqua         6\n",
              "                     ..\n",
              "Joe Cornish           1\n",
              "Roger Spottiswoode    1\n",
              "Jimmy Hayward         1\n",
              "Jim Gillespie         1\n",
              "Jon Avnet             1\n",
              "Length: 364, dtype: int64"
            ]
          },
          "metadata": {
            "tags": []
          }
        }
      ]
    },
    {
      "cell_type": "code",
      "metadata": {
        "id": "2Mkbryu6ac6J"
      },
      "source": [
        "answers['14'] = action_directors.idxmax()"
      ],
      "execution_count": 213,
      "outputs": []
    },
    {
      "cell_type": "markdown",
      "metadata": {
        "id": "PQ0KciD7Vp_f"
      },
      "source": [
        "# 15. Фильмы с каким актером принесли самые высокие кассовые сборы в 2012 году?\r\n",
        "\r\n",
        "<font color=\"blue\">Which actor brought the highest box-office gains in 2012?</font>"
      ]
    },
    {
      "cell_type": "code",
      "metadata": {
        "id": "aga62oeKVp_g",
        "colab": {
          "base_uri": "https://localhost:8080/",
          "height": 238
        },
        "outputId": "23514f77-18d6-4b5a-ae7d-9d3326449682"
      },
      "source": [
        "# Filter by 2012 relesae year, explode by cast, then group and sum revenue\r\n",
        "revenue_with_actor_in_2012 = explode_df(data[data.release_year == 2012],'cast').groupby('cast').revenue.sum().sort_values(ascending=False)\r\n",
        "display(revenue_with_actor_in_2012)"
      ],
      "execution_count": 214,
      "outputs": [
        {
          "output_type": "display_data",
          "data": {
            "text/plain": [
              "cast\n",
              "Chris Hemsworth      2027450773\n",
              "Denis Leary          1629460639\n",
              "Anne Hathaway        1522851057\n",
              "Chris Evans          1519557910\n",
              "Robert Downey Jr.    1519557910\n",
              "                        ...    \n",
              "Jason Bateman           3428048\n",
              "Danny Huston            2106557\n",
              "Sami Gayle              2106557\n",
              "Josh Lucas              2106557\n",
              "Nicolas Cage            2106557\n",
              "Name: revenue, Length: 466, dtype: int64"
            ]
          },
          "metadata": {
            "tags": []
          }
        }
      ]
    },
    {
      "cell_type": "code",
      "metadata": {
        "id": "D94ODIR-l45i"
      },
      "source": [
        "answers['15'] = revenue_with_actor_in_2012.idxmax()"
      ],
      "execution_count": 215,
      "outputs": []
    },
    {
      "cell_type": "markdown",
      "metadata": {
        "id": "mWHyyL7QVp_j"
      },
      "source": [
        "# 16. Какой актер снялся в большем количестве высокобюджетных фильмов?\r\n",
        "\r\n",
        "<font color=\"blue\">Which actor has starred in the most big-budget films?<br>\r\n",
        "(note: in movies with budget higher than mid)\r\n",
        "</font>"
      ]
    },
    {
      "cell_type": "code",
      "metadata": {
        "id": "qQtmHKTFVp_k",
        "colab": {
          "base_uri": "https://localhost:8080/",
          "height": 238
        },
        "outputId": "1c13ca91-035b-4517-cd9e-3afcdf0a1ab1"
      },
      "source": [
        "# First, get \"big-budget\" movies\r\n",
        "bigbudget_movies = data[data.budget > data.budget.mean()]\r\n",
        "# Explode by cast, then group and count\r\n",
        "actors_counts_in_bigbudget_movies = explode_df(bigbudget_movies,'cast').groupby('cast').size().sort_values(ascending=False)\r\n",
        "display(actors_counts_in_bigbudget_movies)"
      ],
      "execution_count": 216,
      "outputs": [
        {
          "output_type": "display_data",
          "data": {
            "text/plain": [
              "cast\n",
              "Matt Damon           18\n",
              "Adam Sandler         17\n",
              "Angelina Jolie       16\n",
              "Eddie Murphy         15\n",
              "Samuel L. Jackson    15\n",
              "                     ..\n",
              "Leslie Bibb           1\n",
              "Leonard Nimoy         1\n",
              "Lennie James          1\n",
              "Lena Olin             1\n",
              "50 Cent               1\n",
              "Length: 1505, dtype: int64"
            ]
          },
          "metadata": {
            "tags": []
          }
        }
      ]
    },
    {
      "cell_type": "code",
      "metadata": {
        "id": "ZRt6JRjUopHE"
      },
      "source": [
        "answers['16'] = actors_counts_in_bigbudget_movies.idxmax()"
      ],
      "execution_count": 217,
      "outputs": []
    },
    {
      "cell_type": "markdown",
      "metadata": {
        "id": "NIh6AaW5Vp_n"
      },
      "source": [
        "# 17. В фильмах какого жанра больше всего снимался Nicolas Cage?\r\n",
        "\r\n",
        "<font color=\"blue\">In what genre has Nicolas Cage starred the most?</font>"
      ]
    },
    {
      "cell_type": "code",
      "metadata": {
        "id": "H74SJDIBVp_n",
        "colab": {
          "base_uri": "https://localhost:8080/",
          "height": 306
        },
        "outputId": "92436b0d-882a-4de9-da6c-f4c29e1526c7"
      },
      "source": [
        "# First, get movies where Nicolas Cage starred\r\n",
        "movies_with_nicolas_cage = data[data.cast.str.contains('Nicolas Cage')]\r\n",
        "# Now do as usual\r\n",
        "genres_with_nicolas_cage = explode_df(movies_with_nicolas_cage,'genres').groupby('genres').size().sort_values(ascending=False)\r\n",
        "display(genres_with_nicolas_cage)"
      ],
      "execution_count": 218,
      "outputs": [
        {
          "output_type": "display_data",
          "data": {
            "text/plain": [
              "genres\n",
              "Action             17\n",
              "Thriller           15\n",
              "Drama              12\n",
              "Crime              10\n",
              "Fantasy             8\n",
              "Adventure           7\n",
              "Comedy              6\n",
              "Science Fiction     4\n",
              "Mystery             3\n",
              "Family              3\n",
              "Animation           3\n",
              "History             2\n",
              "War                 1\n",
              "Romance             1\n",
              "Horror              1\n",
              "dtype: int64"
            ]
          },
          "metadata": {
            "tags": []
          }
        }
      ]
    },
    {
      "cell_type": "code",
      "metadata": {
        "id": "8ovWGICQoP1n"
      },
      "source": [
        "answers['17'] = genres_with_nicolas_cage.idxmax()"
      ],
      "execution_count": 219,
      "outputs": []
    },
    {
      "cell_type": "markdown",
      "metadata": {
        "id": "61HPMkfooNvB"
      },
      "source": [
        "# ------------------------------------------------------------------------------"
      ]
    },
    {
      "cell_type": "markdown",
      "metadata": {
        "id": "RqOmPRfWVp_q"
      },
      "source": [
        "# 18. Самый убыточный фильм от Paramount Pictures\r\n",
        "\r\n",
        "<font color=\"blue\">The most unprofitable movie of Paramount Pictures</font>"
      ]
    },
    {
      "cell_type": "code",
      "metadata": {
        "id": "9E_B0Y96Vp_r",
        "colab": {
          "base_uri": "https://localhost:8080/",
          "height": 185
        },
        "outputId": "c0e846cd-ba75-4826-9df8-a29ffecbfa37"
      },
      "source": [
        "# Get Paramount Pictures movies\r\n",
        "movies_by_paramount = data[data.production_companies.str.contains('Paramount Pictures')]\r\n",
        "# Get min profit\r\n",
        "most_unprofitable_by_paramount = movies_by_paramount[movies_by_paramount.profit == movies_by_paramount.profit.min()]\r\n",
        "display(most_unprofitable_by_paramount)"
      ],
      "execution_count": 220,
      "outputs": [
        {
          "output_type": "display_data",
          "data": {
            "text/html": [
              "<div>\n",
              "<style scoped>\n",
              "    .dataframe tbody tr th:only-of-type {\n",
              "        vertical-align: middle;\n",
              "    }\n",
              "\n",
              "    .dataframe tbody tr th {\n",
              "        vertical-align: top;\n",
              "    }\n",
              "\n",
              "    .dataframe thead th {\n",
              "        text-align: right;\n",
              "    }\n",
              "</style>\n",
              "<table border=\"1\" class=\"dataframe\">\n",
              "  <thead>\n",
              "    <tr style=\"text-align: right;\">\n",
              "      <th></th>\n",
              "      <th>imdb_id</th>\n",
              "      <th>budget</th>\n",
              "      <th>revenue</th>\n",
              "      <th>original_title</th>\n",
              "      <th>cast</th>\n",
              "      <th>director</th>\n",
              "      <th>tagline</th>\n",
              "      <th>overview</th>\n",
              "      <th>runtime</th>\n",
              "      <th>genres</th>\n",
              "      <th>production_companies</th>\n",
              "      <th>release_date</th>\n",
              "      <th>vote_average</th>\n",
              "      <th>release_year</th>\n",
              "      <th>profit</th>\n",
              "    </tr>\n",
              "  </thead>\n",
              "  <tbody>\n",
              "    <tr>\n",
              "      <th>925</th>\n",
              "      <td>tt0267626</td>\n",
              "      <td>100000000</td>\n",
              "      <td>35168966</td>\n",
              "      <td>K-19: The Widowmaker</td>\n",
              "      <td>Harrison Ford|Liam Neeson|Peter Sarsgaard|Joss...</td>\n",
              "      <td>Kathryn Bigelow</td>\n",
              "      <td>Fate has found its hero.</td>\n",
              "      <td>When Russia's first nuclear submarine malfunct...</td>\n",
              "      <td>138</td>\n",
              "      <td>Thriller|Drama|History</td>\n",
              "      <td>Paramount Pictures|Intermedia Films|National G...</td>\n",
              "      <td>7/19/2002</td>\n",
              "      <td>6.0</td>\n",
              "      <td>2002</td>\n",
              "      <td>-64831034</td>\n",
              "    </tr>\n",
              "  </tbody>\n",
              "</table>\n",
              "</div>"
            ],
            "text/plain": [
              "       imdb_id     budget   revenue  ... vote_average release_year    profit\n",
              "925  tt0267626  100000000  35168966  ...          6.0         2002 -64831034\n",
              "\n",
              "[1 rows x 15 columns]"
            ]
          },
          "metadata": {
            "tags": []
          }
        }
      ]
    },
    {
      "cell_type": "code",
      "metadata": {
        "id": "YxHVCe537B5c"
      },
      "source": [
        "answers['18'] = get_movie(most_unprofitable_by_paramount)"
      ],
      "execution_count": 221,
      "outputs": []
    },
    {
      "cell_type": "markdown",
      "metadata": {
        "id": "vS8Ur6ddVp_u"
      },
      "source": [
        "# 19. Какой год стал самым успешным по суммарным кассовым сборам?\r\n",
        "\r\n",
        "<font color=\"blue\">What year is the most successful by box-office gains?</font>"
      ]
    },
    {
      "cell_type": "code",
      "metadata": {
        "colab": {
          "base_uri": "https://localhost:8080/",
          "height": 323
        },
        "id": "rlD8BXmuCLy6",
        "outputId": "c9b1bec3-c114-49fc-f11d-c7f6de15d455"
      },
      "source": [
        "most_sum_revenue_year = data.groupby('release_year').revenue.sum().sort_values(ascending=False)\r\n",
        "display(most_sum_revenue_year)"
      ],
      "execution_count": 222,
      "outputs": [
        {
          "output_type": "display_data",
          "data": {
            "text/plain": [
              "release_year\n",
              "2015    25449202382\n",
              "2014    23405862953\n",
              "2013    23213799791\n",
              "2012    23079001687\n",
              "2011    22676791872\n",
              "2010    21071204961\n",
              "2009    20261791024\n",
              "2008    18252781990\n",
              "2007    18162406801\n",
              "2004    15663430720\n",
              "2005    15309425558\n",
              "2006    14775042320\n",
              "2003    14346123312\n",
              "2002    14136361487\n",
              "2001    13017764865\n",
              "2000    10664099805\n",
              "Name: revenue, dtype: int64"
            ]
          },
          "metadata": {
            "tags": []
          }
        }
      ]
    },
    {
      "cell_type": "code",
      "metadata": {
        "id": "Dnbt4GdIVp_v"
      },
      "source": [
        "answers['19'] = most_sum_revenue_year.idxmax()"
      ],
      "execution_count": 223,
      "outputs": []
    },
    {
      "cell_type": "markdown",
      "metadata": {
        "id": "JAzJh4QAVp_z"
      },
      "source": [
        "# 20. Какой самый прибыльный год для студии Warner Bros?\r\n",
        "\r\n",
        "<font color=\"blue\">What is the most profitable year for warner Bros?</font>"
      ]
    },
    {
      "cell_type": "code",
      "metadata": {
        "id": "wgVu02DEVp_0",
        "colab": {
          "base_uri": "https://localhost:8080/",
          "height": 323
        },
        "outputId": "c989fa15-5aa0-4198-a0c8-61bc3cc24b1e"
      },
      "source": [
        "# Get Warner Bros movies\r\n",
        "movies_by_warner = data[data.production_companies.str.contains('Warner Bros')]\r\n",
        "most_profitable_year_by_warner = movies_by_warner.groupby('release_year').profit.sum().sort_values(ascending=False)\r\n",
        "display(most_profitable_year_by_warner)"
      ],
      "execution_count": 224,
      "outputs": [
        {
          "output_type": "display_data",
          "data": {
            "text/plain": [
              "release_year\n",
              "2014    2295464519\n",
              "2007    2201675217\n",
              "2008    2134595031\n",
              "2010    1974712985\n",
              "2011    1871393682\n",
              "2003    1855493377\n",
              "2009    1822454136\n",
              "2013    1636453400\n",
              "2004    1631933725\n",
              "2005    1551980298\n",
              "2001    1343545668\n",
              "2012    1258020056\n",
              "2002    1022709901\n",
              "2015     870368348\n",
              "2006     620170743\n",
              "2000     452631386\n",
              "Name: profit, dtype: int64"
            ]
          },
          "metadata": {
            "tags": []
          }
        }
      ]
    },
    {
      "cell_type": "code",
      "metadata": {
        "id": "isqAnTbP7NET"
      },
      "source": [
        "answers['20'] = most_profitable_year_by_warner.idxmax()"
      ],
      "execution_count": 225,
      "outputs": []
    },
    {
      "cell_type": "markdown",
      "metadata": {
        "id": "8Im1S2HRVp_4"
      },
      "source": [
        "# 21. В каком месяце за все годы суммарно вышло больше всего фильмов?\r\n",
        "\r\n",
        "<font color=\"blue\">In which month for all the years the most films were released in total?</font>"
      ]
    },
    {
      "cell_type": "code",
      "metadata": {
        "id": "lev6TH7gVp_4",
        "colab": {
          "base_uri": "https://localhost:8080/",
          "height": 238
        },
        "outputId": "e6ce4bf3-62c9-4e32-9a8e-f8846434386a"
      },
      "source": [
        "# Get all release dates from movies, gives series of lists [month, day, year]\r\n",
        "movies_dates = data.release_date.str.split('/')\r\n",
        "# Keep months only and count\r\n",
        "movies_months = movies_dates.map(lambda x: int(x[0]))\r\n",
        "movies_months_counts = movies_months.value_counts()\r\n",
        "display(movies_months_counts)"
      ],
      "execution_count": 226,
      "outputs": [
        {
          "output_type": "display_data",
          "data": {
            "text/plain": [
              "9     227\n",
              "12    190\n",
              "10    186\n",
              "8     161\n",
              "3     156\n",
              "4     149\n",
              "6     147\n",
              "11    146\n",
              "7     142\n",
              "5     140\n",
              "2     135\n",
              "1     110\n",
              "Name: release_date, dtype: int64"
            ]
          },
          "metadata": {
            "tags": []
          }
        }
      ]
    },
    {
      "cell_type": "code",
      "metadata": {
        "id": "UQ8JQtez7Om-"
      },
      "source": [
        "answers['21'] = months[movies_months_counts.idxmax()]"
      ],
      "execution_count": 227,
      "outputs": []
    },
    {
      "cell_type": "markdown",
      "metadata": {
        "id": "uAJsZ_NeVp_7"
      },
      "source": [
        "# 22. Сколько суммарно вышло фильмов летом? (за июнь, июль, август)\r\n",
        "\r\n",
        "<font color=\"blue\">How many films were released in the summer in total? (during June, July, August)</font>"
      ]
    },
    {
      "cell_type": "code",
      "metadata": {
        "id": "Aa-hEREoVp_8",
        "colab": {
          "base_uri": "https://localhost:8080/"
        },
        "outputId": "13519142-f078-48b6-dcd0-7d1a3c6cef12"
      },
      "source": [
        "# Month stands first in the date\r\n",
        "# June == 6, July == 7, August == 8\r\n",
        "# Use map and count\r\n",
        "movies_summer = data[data.release_date.map(lambda x: x.split('/')[0] in '678')].imdb_id.count()\r\n",
        "print(movies_summer)"
      ],
      "execution_count": 228,
      "outputs": [
        {
          "output_type": "stream",
          "text": [
            "450\n"
          ],
          "name": "stdout"
        }
      ]
    },
    {
      "cell_type": "code",
      "metadata": {
        "id": "Pl9uvGps7Qhb"
      },
      "source": [
        "answers['22'] = movies_summer"
      ],
      "execution_count": 229,
      "outputs": []
    },
    {
      "cell_type": "markdown",
      "metadata": {
        "id": "qf6kuqFkNqr6"
      },
      "source": [
        "<font color=\"blue\">OPTION 2</font>"
      ]
    },
    {
      "cell_type": "code",
      "metadata": {
        "colab": {
          "base_uri": "https://localhost:8080/"
        },
        "id": "RYuOpv7kXQv_",
        "outputId": "153731a5-e3c9-4e3a-b3ec-99a5fd032280"
      },
      "source": [
        "# Using str, e.g. if have to check \"unhandy\" months :)\r\n",
        "data[(data.release_date.str.startswith('6/')) | (data.release_date.str.startswith('7/')) | (data.release_date.str.startswith('8/'))].imdb_id.count()"
      ],
      "execution_count": 230,
      "outputs": [
        {
          "output_type": "execute_result",
          "data": {
            "text/plain": [
              "450"
            ]
          },
          "metadata": {
            "tags": []
          },
          "execution_count": 230
        }
      ]
    },
    {
      "cell_type": "markdown",
      "metadata": {
        "id": "Qs3YaMmnflFh"
      },
      "source": [
        "<font color=\"blue\">OPTION 3</font>"
      ]
    },
    {
      "cell_type": "code",
      "metadata": {
        "colab": {
          "base_uri": "https://localhost:8080/",
          "height": 85
        },
        "id": "xfcTH3tcNumQ",
        "outputId": "9c76ec36-dcd6-423d-adb7-a329a9229e2a"
      },
      "source": [
        "# Universal solution to apply any months conditions the right way\r\n",
        "summer_movies_counts = movies_months[(movies_months >= 6) & (movies_months <= 8)].value_counts()\r\n",
        "display(summer_movies_counts)"
      ],
      "execution_count": 231,
      "outputs": [
        {
          "output_type": "display_data",
          "data": {
            "text/plain": [
              "8    161\n",
              "6    147\n",
              "7    142\n",
              "Name: release_date, dtype: int64"
            ]
          },
          "metadata": {
            "tags": []
          }
        }
      ]
    },
    {
      "cell_type": "code",
      "metadata": {
        "colab": {
          "base_uri": "https://localhost:8080/"
        },
        "id": "7EP4olwqVw0i",
        "outputId": "18f61579-8b7a-475a-8694-e08aa7629c10"
      },
      "source": [
        "summer_movies_counts.sum()"
      ],
      "execution_count": 232,
      "outputs": [
        {
          "output_type": "execute_result",
          "data": {
            "text/plain": [
              "450"
            ]
          },
          "metadata": {
            "tags": []
          },
          "execution_count": 232
        }
      ]
    },
    {
      "cell_type": "markdown",
      "metadata": {
        "id": "XTRlFdgOpYV-"
      },
      "source": [
        "# ------------------------------------------------------------------------------"
      ]
    },
    {
      "cell_type": "markdown",
      "metadata": {
        "id": "G94ppOY1VqAA"
      },
      "source": [
        "# 23. Для какого режиссера зима – самое продуктивное время года?\r\n",
        "\r\n",
        "<font color=\"blue\">For which director the winter is the most productive time of the year?</font>"
      ]
    },
    {
      "cell_type": "code",
      "metadata": {
        "id": "RhNTsamuVqAB",
        "colab": {
          "base_uri": "https://localhost:8080/",
          "height": 238
        },
        "outputId": "98cf6577-ed6f-4568-e217-1cd50ee8bce8"
      },
      "source": [
        "# Filter movies released in winter\r\n",
        "# December == 12, January == 1, February == 2\r\n",
        "movies_winter = data[data.release_date.map(lambda x: x.split('/')[0] in '12')]\r\n",
        "# Explode by director and group\r\n",
        "winter_movies_directors = explode_df(movies_winter, 'director').groupby('director').size().sort_values(ascending=False)\r\n",
        "display(winter_movies_directors)"
      ],
      "execution_count": 233,
      "outputs": [
        {
          "output_type": "display_data",
          "data": {
            "text/plain": [
              "director\n",
              "Peter Jackson            7\n",
              "Steven Soderbergh        6\n",
              "Clint Eastwood           6\n",
              "Martin Scorsese          4\n",
              "Adam Shankman            4\n",
              "                        ..\n",
              "Matt Bettinelli-Olpin    1\n",
              "Matt Reeves              1\n",
              "Matthew O'Callaghan      1\n",
              "Matthew Vaughn           1\n",
              "Jon Avnet                1\n",
              "Length: 358, dtype: int64"
            ]
          },
          "metadata": {
            "tags": []
          }
        }
      ]
    },
    {
      "cell_type": "code",
      "metadata": {
        "id": "A57BZMn-7R1z"
      },
      "source": [
        "answers['23'] = winter_movies_directors.idxmax()"
      ],
      "execution_count": 234,
      "outputs": []
    },
    {
      "cell_type": "markdown",
      "metadata": {
        "id": "BcB5hHsMY2tZ"
      },
      "source": [
        "<font color=\"blue\">OPTION 2</font>"
      ]
    },
    {
      "cell_type": "code",
      "metadata": {
        "colab": {
          "base_uri": "https://localhost:8080/"
        },
        "id": "Ey3hw2MaY5T5",
        "outputId": "119820a9-5df0-4c50-b88d-c349525f169d"
      },
      "source": [
        "# Using separate column, then filter by specific months\r\n",
        "data['release_month'] = data.release_date.str.split('/').str[0]\r\n",
        "data[(data.release_month == '1') | (data.release_month == '2') | (data.release_month == '12')].groupby('director').size().sort_values(ascending=False)"
      ],
      "execution_count": 235,
      "outputs": [
        {
          "output_type": "execute_result",
          "data": {
            "text/plain": [
              "director\n",
              "Peter Jackson                          7\n",
              "Steven Soderbergh                      6\n",
              "Clint Eastwood                         6\n",
              "Nancy Meyers                           4\n",
              "Adam Shankman                          4\n",
              "                                      ..\n",
              "Matt Bettinelli-Olpin|Tyler Gillett    1\n",
              "Matt Reeves                            1\n",
              "Matthew O'Callaghan                    1\n",
              "Matthew Vaughn                         1\n",
              "Aaron Seltzer|Jason Friedberg          1\n",
              "Length: 332, dtype: int64"
            ]
          },
          "metadata": {
            "tags": []
          },
          "execution_count": 235
        }
      ]
    },
    {
      "cell_type": "markdown",
      "metadata": {
        "id": "RBo0JVjVVqAF"
      },
      "source": [
        "# 24. Какая студия дает самые длинные названия своим фильмам по количеству символов?\r\n",
        "\r\n",
        "<font color=\"blue\">Which studio gives the longest titles to its films based on the number of characters?</font>"
      ]
    },
    {
      "cell_type": "code",
      "metadata": {
        "id": "QRGS8L0iVqAG",
        "colab": {
          "base_uri": "https://localhost:8080/",
          "height": 238
        },
        "outputId": "d6b48ae7-3ba5-43ea-e972-6888341ec556"
      },
      "source": [
        "# Add column with title length\r\n",
        "data['title_length'] = data.original_title.str.len()\r\n",
        "# Explode and group by studio, then sort by mean title length\r\n",
        "mean_title_lengths = explode_df(data,'production_companies').groupby('production_companies').title_length.mean().sort_values(ascending=False)\r\n",
        "display(mean_title_lengths)"
      ],
      "execution_count": 236,
      "outputs": [
        {
          "output_type": "display_data",
          "data": {
            "text/plain": [
              "production_companies\n",
              "Four By Two Productions       83.0\n",
              "Jim Henson Company, The       59.0\n",
              "Dos Corazones                 47.0\n",
              "Museum Canada Productions     46.0\n",
              "Polsky Films                  46.0\n",
              "                              ... \n",
              "Everest Entertainment          3.0\n",
              "Berlanti Productions           3.0\n",
              "XM2 Productions                2.0\n",
              "Ixtlan Productions             2.0\n",
              "Global Entertainment Group     2.0\n",
              "Name: title_length, Length: 1771, dtype: float64"
            ]
          },
          "metadata": {
            "tags": []
          }
        }
      ]
    },
    {
      "cell_type": "code",
      "metadata": {
        "id": "pny02rk_7Tzz"
      },
      "source": [
        "answers['24'] = mean_title_lengths.idxmax()"
      ],
      "execution_count": 237,
      "outputs": []
    },
    {
      "cell_type": "markdown",
      "metadata": {
        "id": "9G0hbvR7VqAK"
      },
      "source": [
        "# 25. Описание фильмов какой студии в среднем самые длинные по количеству слов?\r\n",
        "\r\n",
        "<font color=\"blue\">Which studio film descriptions are the longest on average in terms of word count?</font>"
      ]
    },
    {
      "cell_type": "code",
      "metadata": {
        "id": "Ge2GsLNxVqAK",
        "colab": {
          "base_uri": "https://localhost:8080/",
          "height": 238
        },
        "outputId": "bce9c3c1-94f7-450e-ad38-a82d61a10ab0"
      },
      "source": [
        "data['overview_word_count'] = data.overview.str.split().str.len()\r\n",
        "mean_overview_words_count = explode_df(data,'production_companies').groupby('production_companies').overview_word_count.mean().sort_values(ascending=False)\r\n",
        "display(mean_overview_words_count)"
      ],
      "execution_count": 238,
      "outputs": [
        {
          "output_type": "display_data",
          "data": {
            "text/plain": [
              "production_companies\n",
              "Midnight Picture Show                    175.0\n",
              "Room 9 Entertainment                     161.0\n",
              "98 MPH Productions                       159.0\n",
              "Heineken Branded Entertainment           159.0\n",
              "Brookwell-McNamara Entertainment         156.0\n",
              "                                         ...  \n",
              "London Boulevard                          13.0\n",
              "Phantom Four                              13.0\n",
              "Henceforth                                13.0\n",
              "Empire Pictures                           11.0\n",
              "Motion Picture Corporation of America     11.0\n",
              "Name: overview_word_count, Length: 1771, dtype: float64"
            ]
          },
          "metadata": {
            "tags": []
          }
        }
      ]
    },
    {
      "cell_type": "code",
      "metadata": {
        "id": "vwiJUotA7XnQ"
      },
      "source": [
        "answers['25'] = mean_overview_words_count.idxmax()"
      ],
      "execution_count": 239,
      "outputs": []
    },
    {
      "cell_type": "markdown",
      "metadata": {
        "id": "FJ1AFt90VqAP"
      },
      "source": [
        "# 26. Какие фильмы входят в 1 процент лучших по рейтингу? (по vote_average)\n",
        "\n",
        "<font color=\"blue\">Which films are at the top 1 percent by vote_average?</font>"
      ]
    },
    {
      "cell_type": "code",
      "metadata": {
        "id": "8qmJVq4CVqAQ",
        "colab": {
          "base_uri": "https://localhost:8080/",
          "height": 1000
        },
        "outputId": "cc26cb09-af90-4263-f0b3-d6b9cb6a726c"
      },
      "source": [
        "data.sort_values(by='vote_average',ascending=False).head(int(len(data)/100))"
      ],
      "execution_count": 240,
      "outputs": [
        {
          "output_type": "execute_result",
          "data": {
            "text/html": [
              "<div>\n",
              "<style scoped>\n",
              "    .dataframe tbody tr th:only-of-type {\n",
              "        vertical-align: middle;\n",
              "    }\n",
              "\n",
              "    .dataframe tbody tr th {\n",
              "        vertical-align: top;\n",
              "    }\n",
              "\n",
              "    .dataframe thead th {\n",
              "        text-align: right;\n",
              "    }\n",
              "</style>\n",
              "<table border=\"1\" class=\"dataframe\">\n",
              "  <thead>\n",
              "    <tr style=\"text-align: right;\">\n",
              "      <th></th>\n",
              "      <th>imdb_id</th>\n",
              "      <th>budget</th>\n",
              "      <th>revenue</th>\n",
              "      <th>original_title</th>\n",
              "      <th>cast</th>\n",
              "      <th>director</th>\n",
              "      <th>tagline</th>\n",
              "      <th>overview</th>\n",
              "      <th>runtime</th>\n",
              "      <th>genres</th>\n",
              "      <th>production_companies</th>\n",
              "      <th>release_date</th>\n",
              "      <th>vote_average</th>\n",
              "      <th>release_year</th>\n",
              "      <th>profit</th>\n",
              "      <th>release_month</th>\n",
              "      <th>title_length</th>\n",
              "      <th>overview_word_count</th>\n",
              "    </tr>\n",
              "  </thead>\n",
              "  <tbody>\n",
              "    <tr>\n",
              "      <th>599</th>\n",
              "      <td>tt0468569</td>\n",
              "      <td>185000000</td>\n",
              "      <td>1001921825</td>\n",
              "      <td>The Dark Knight</td>\n",
              "      <td>Christian Bale|Michael Caine|Heath Ledger|Aaro...</td>\n",
              "      <td>Christopher Nolan</td>\n",
              "      <td>Why So Serious?</td>\n",
              "      <td>Batman raises the stakes in his war on crime. ...</td>\n",
              "      <td>152</td>\n",
              "      <td>Drama|Action|Crime|Thriller</td>\n",
              "      <td>DC Comics|Legendary Pictures|Warner Bros.|Syncopy</td>\n",
              "      <td>7/16/2008</td>\n",
              "      <td>8.1</td>\n",
              "      <td>2008</td>\n",
              "      <td>816921825</td>\n",
              "      <td>7</td>\n",
              "      <td>15</td>\n",
              "      <td>67</td>\n",
              "    </tr>\n",
              "    <tr>\n",
              "      <th>118</th>\n",
              "      <td>tt0816692</td>\n",
              "      <td>165000000</td>\n",
              "      <td>621752480</td>\n",
              "      <td>Interstellar</td>\n",
              "      <td>Matthew McConaughey|Jessica Chastain|Anne Hath...</td>\n",
              "      <td>Christopher Nolan</td>\n",
              "      <td>Mankind was born on Earth. It was never meant ...</td>\n",
              "      <td>Interstellar chronicles the adventures of a gr...</td>\n",
              "      <td>169</td>\n",
              "      <td>Adventure|Drama|Science Fiction</td>\n",
              "      <td>Paramount Pictures|Legendary Pictures|Warner B...</td>\n",
              "      <td>11/5/2014</td>\n",
              "      <td>8.0</td>\n",
              "      <td>2014</td>\n",
              "      <td>456752480</td>\n",
              "      <td>11</td>\n",
              "      <td>12</td>\n",
              "      <td>35</td>\n",
              "    </tr>\n",
              "    <tr>\n",
              "      <th>125</th>\n",
              "      <td>tt2084970</td>\n",
              "      <td>14000000</td>\n",
              "      <td>233555708</td>\n",
              "      <td>The Imitation Game</td>\n",
              "      <td>Benedict Cumberbatch|Keira Knightley|Matthew G...</td>\n",
              "      <td>Morten Tyldum</td>\n",
              "      <td>The true enigma was the man who cracked the code.</td>\n",
              "      <td>Based on the real life story of legendary cryp...</td>\n",
              "      <td>113</td>\n",
              "      <td>History|Drama|Thriller|War</td>\n",
              "      <td>Black Bear Pictures|Bristol Automotive</td>\n",
              "      <td>11/14/2014</td>\n",
              "      <td>8.0</td>\n",
              "      <td>2014</td>\n",
              "      <td>219555708</td>\n",
              "      <td>11</td>\n",
              "      <td>18</td>\n",
              "      <td>46</td>\n",
              "    </tr>\n",
              "    <tr>\n",
              "      <th>9</th>\n",
              "      <td>tt2096673</td>\n",
              "      <td>175000000</td>\n",
              "      <td>853708609</td>\n",
              "      <td>Inside Out</td>\n",
              "      <td>Amy Poehler|Phyllis Smith|Richard Kind|Bill Ha...</td>\n",
              "      <td>Pete Docter</td>\n",
              "      <td>Meet the little voices inside your head.</td>\n",
              "      <td>Growing up can be a bumpy road, and it's no ex...</td>\n",
              "      <td>94</td>\n",
              "      <td>Comedy|Animation|Family</td>\n",
              "      <td>Walt Disney Pictures|Pixar Animation Studios|W...</td>\n",
              "      <td>6/9/2015</td>\n",
              "      <td>8.0</td>\n",
              "      <td>2015</td>\n",
              "      <td>678708609</td>\n",
              "      <td>6</td>\n",
              "      <td>10</td>\n",
              "      <td>112</td>\n",
              "    </tr>\n",
              "    <tr>\n",
              "      <th>34</th>\n",
              "      <td>tt3170832</td>\n",
              "      <td>6000000</td>\n",
              "      <td>35401758</td>\n",
              "      <td>Room</td>\n",
              "      <td>Brie Larson|Jacob Tremblay|Joan Allen|Sean Bri...</td>\n",
              "      <td>Lenny Abrahamson</td>\n",
              "      <td>Love knows no boundaries</td>\n",
              "      <td>Jack is a young boy of 5 years old who has liv...</td>\n",
              "      <td>117</td>\n",
              "      <td>Drama|Thriller</td>\n",
              "      <td>Element Pictures|No Trace Camping|A24|Duperele...</td>\n",
              "      <td>10/16/2015</td>\n",
              "      <td>8.0</td>\n",
              "      <td>2015</td>\n",
              "      <td>29401758</td>\n",
              "      <td>10</td>\n",
              "      <td>4</td>\n",
              "      <td>49</td>\n",
              "    </tr>\n",
              "    <tr>\n",
              "      <th>1183</th>\n",
              "      <td>tt0993846</td>\n",
              "      <td>100000000</td>\n",
              "      <td>392000694</td>\n",
              "      <td>The Wolf of Wall Street</td>\n",
              "      <td>Leonardo DiCaprio|Jonah Hill|Margot Robbie|Kyl...</td>\n",
              "      <td>Martin Scorsese</td>\n",
              "      <td>EARN. SPEND. PARTY.</td>\n",
              "      <td>A New York stockbroker refuses to cooperate in...</td>\n",
              "      <td>180</td>\n",
              "      <td>Crime|Drama|Comedy</td>\n",
              "      <td>Paramount Pictures|Appian Way|EMJAG Production...</td>\n",
              "      <td>12/25/2013</td>\n",
              "      <td>7.9</td>\n",
              "      <td>2013</td>\n",
              "      <td>292000694</td>\n",
              "      <td>12</td>\n",
              "      <td>23</td>\n",
              "      <td>29</td>\n",
              "    </tr>\n",
              "    <tr>\n",
              "      <th>128</th>\n",
              "      <td>tt2267998</td>\n",
              "      <td>61000000</td>\n",
              "      <td>369330363</td>\n",
              "      <td>Gone Girl</td>\n",
              "      <td>Ben Affleck|Rosamund Pike|Carrie Coon|Neil Pat...</td>\n",
              "      <td>David Fincher</td>\n",
              "      <td>You don't know what you've got 'til it's...</td>\n",
              "      <td>With his wife's disappearance having become th...</td>\n",
              "      <td>145</td>\n",
              "      <td>Mystery|Thriller|Drama</td>\n",
              "      <td>Twentieth Century Fox Film Corporation|Regency...</td>\n",
              "      <td>10/1/2014</td>\n",
              "      <td>7.9</td>\n",
              "      <td>2014</td>\n",
              "      <td>308330363</td>\n",
              "      <td>10</td>\n",
              "      <td>9</td>\n",
              "      <td>30</td>\n",
              "    </tr>\n",
              "    <tr>\n",
              "      <th>1191</th>\n",
              "      <td>tt2024544</td>\n",
              "      <td>20000000</td>\n",
              "      <td>187000000</td>\n",
              "      <td>12 Years a Slave</td>\n",
              "      <td>Chiwetel Ejiofor|Michael Fassbender|Lupita Nyo...</td>\n",
              "      <td>Steve McQueen</td>\n",
              "      <td>The extraordinary true story of Solomon Northup</td>\n",
              "      <td>In the pre-Civil War United States, Solomon No...</td>\n",
              "      <td>134</td>\n",
              "      <td>Drama|History</td>\n",
              "      <td>Plan B Entertainment|Regency Enterprises|River...</td>\n",
              "      <td>10/18/2013</td>\n",
              "      <td>7.9</td>\n",
              "      <td>2013</td>\n",
              "      <td>167000000</td>\n",
              "      <td>10</td>\n",
              "      <td>16</td>\n",
              "      <td>61</td>\n",
              "    </tr>\n",
              "    <tr>\n",
              "      <th>119</th>\n",
              "      <td>tt2015381</td>\n",
              "      <td>170000000</td>\n",
              "      <td>773312399</td>\n",
              "      <td>Guardians of the Galaxy</td>\n",
              "      <td>Chris Pratt|Zoe Saldana|Dave Bautista|Vin Dies...</td>\n",
              "      <td>James Gunn</td>\n",
              "      <td>All heroes start somewhere.</td>\n",
              "      <td>Light years from Earth, 26 years after being a...</td>\n",
              "      <td>121</td>\n",
              "      <td>Action|Science Fiction|Adventure</td>\n",
              "      <td>Marvel Studios|Moving Picture Company (MPC)|Bu...</td>\n",
              "      <td>7/30/2014</td>\n",
              "      <td>7.9</td>\n",
              "      <td>2014</td>\n",
              "      <td>603312399</td>\n",
              "      <td>7</td>\n",
              "      <td>23</td>\n",
              "      <td>28</td>\n",
              "    </tr>\n",
              "    <tr>\n",
              "      <th>1081</th>\n",
              "      <td>tt0167260</td>\n",
              "      <td>94000000</td>\n",
              "      <td>1118888979</td>\n",
              "      <td>The Lord of the Rings: The Return of the King</td>\n",
              "      <td>Elijah Wood|Ian McKellen|Viggo Mortensen|Liv T...</td>\n",
              "      <td>Peter Jackson</td>\n",
              "      <td>The eye of the enemy is moving.</td>\n",
              "      <td>Aragorn is revealed as the heir to the ancient...</td>\n",
              "      <td>201</td>\n",
              "      <td>Adventure|Fantasy|Action</td>\n",
              "      <td>WingNut Films|New Line Cinema</td>\n",
              "      <td>12/1/2003</td>\n",
              "      <td>7.9</td>\n",
              "      <td>2003</td>\n",
              "      <td>1024888979</td>\n",
              "      <td>12</td>\n",
              "      <td>45</td>\n",
              "      <td>45</td>\n",
              "    </tr>\n",
              "    <tr>\n",
              "      <th>1800</th>\n",
              "      <td>tt0209144</td>\n",
              "      <td>9000000</td>\n",
              "      <td>39723096</td>\n",
              "      <td>Memento</td>\n",
              "      <td>Guy Pearce|Carrie-Anne Moss|Joe Pantoliano|Mar...</td>\n",
              "      <td>Christopher Nolan</td>\n",
              "      <td>Some memories are best forgotten.</td>\n",
              "      <td>Suffering short-term memory loss after a head ...</td>\n",
              "      <td>113</td>\n",
              "      <td>Mystery|Thriller</td>\n",
              "      <td>Summit Entertainment|Newmarket Capital Group|T...</td>\n",
              "      <td>10/11/2000</td>\n",
              "      <td>7.9</td>\n",
              "      <td>2000</td>\n",
              "      <td>30723096</td>\n",
              "      <td>10</td>\n",
              "      <td>7</td>\n",
              "      <td>78</td>\n",
              "    </tr>\n",
              "    <tr>\n",
              "      <th>370</th>\n",
              "      <td>tt1375666</td>\n",
              "      <td>160000000</td>\n",
              "      <td>825500000</td>\n",
              "      <td>Inception</td>\n",
              "      <td>Leonardo DiCaprio|Joseph Gordon-Levitt|Ellen P...</td>\n",
              "      <td>Christopher Nolan</td>\n",
              "      <td>Your mind is the scene of the crime.</td>\n",
              "      <td>Cobb, a skilled thief who commits corporate es...</td>\n",
              "      <td>148</td>\n",
              "      <td>Action|Thriller|Science Fiction|Mystery|Adventure</td>\n",
              "      <td>Legendary Pictures|Warner Bros.|Syncopy</td>\n",
              "      <td>7/14/2010</td>\n",
              "      <td>7.9</td>\n",
              "      <td>2010</td>\n",
              "      <td>665500000</td>\n",
              "      <td>7</td>\n",
              "      <td>9</td>\n",
              "      <td>44</td>\n",
              "    </tr>\n",
              "    <tr>\n",
              "      <th>872</th>\n",
              "      <td>tt0253474</td>\n",
              "      <td>35000000</td>\n",
              "      <td>120072577</td>\n",
              "      <td>The Pianist</td>\n",
              "      <td>Adrien Brody|Thomas Kretschmann|Frank Finlay|M...</td>\n",
              "      <td>Roman Polanski</td>\n",
              "      <td>Music was his passion. Survival was his master...</td>\n",
              "      <td>The Pianist is a film adapted from the biograp...</td>\n",
              "      <td>150</td>\n",
              "      <td>Drama|War</td>\n",
              "      <td>Bac Films|Canal+Polska|Heritage Films|Studio B...</td>\n",
              "      <td>9/24/2002</td>\n",
              "      <td>7.9</td>\n",
              "      <td>2002</td>\n",
              "      <td>85072577</td>\n",
              "      <td>9</td>\n",
              "      <td>11</td>\n",
              "      <td>39</td>\n",
              "    </tr>\n",
              "    <tr>\n",
              "      <th>138</th>\n",
              "      <td>tt2278388</td>\n",
              "      <td>30000000</td>\n",
              "      <td>174600318</td>\n",
              "      <td>The Grand Budapest Hotel</td>\n",
              "      <td>Ralph Fiennes|Tony Revolori|F. Murray Abraham|...</td>\n",
              "      <td>Wes Anderson</td>\n",
              "      <td>A perfect holiday without leaving home.</td>\n",
              "      <td>The Grand Budapest Hotel tells of a legendary ...</td>\n",
              "      <td>99</td>\n",
              "      <td>Comedy|Drama</td>\n",
              "      <td>Fox Searchlight Pictures|Scott Rudin Productio...</td>\n",
              "      <td>2/26/2014</td>\n",
              "      <td>7.9</td>\n",
              "      <td>2014</td>\n",
              "      <td>144600318</td>\n",
              "      <td>2</td>\n",
              "      <td>24</td>\n",
              "      <td>66</td>\n",
              "    </tr>\n",
              "    <tr>\n",
              "      <th>1188</th>\n",
              "      <td>tt1798709</td>\n",
              "      <td>23000000</td>\n",
              "      <td>47351251</td>\n",
              "      <td>Her</td>\n",
              "      <td>Joaquin Phoenix|Scarlett Johansson|Rooney Mara...</td>\n",
              "      <td>Spike Jonze</td>\n",
              "      <td>A Spike Jonze Love Story</td>\n",
              "      <td>In the not so distant future, Theodore, a lone...</td>\n",
              "      <td>126</td>\n",
              "      <td>Romance|Science Fiction|Drama</td>\n",
              "      <td>Annapurna Pictures</td>\n",
              "      <td>12/18/2013</td>\n",
              "      <td>7.8</td>\n",
              "      <td>2013</td>\n",
              "      <td>24351251</td>\n",
              "      <td>12</td>\n",
              "      <td>3</td>\n",
              "      <td>65</td>\n",
              "    </tr>\n",
              "    <tr>\n",
              "      <th>28</th>\n",
              "      <td>tt1895587</td>\n",
              "      <td>20000000</td>\n",
              "      <td>88346473</td>\n",
              "      <td>Spotlight</td>\n",
              "      <td>Mark Ruffalo|Michael Keaton|Rachel McAdams|Lie...</td>\n",
              "      <td>Tom McCarthy</td>\n",
              "      <td>Break the story. Break the silence.</td>\n",
              "      <td>The true story of how The Boston Globe uncover...</td>\n",
              "      <td>128</td>\n",
              "      <td>Drama|Thriller|History</td>\n",
              "      <td>Participant Media|Open Road Films|Anonymous Co...</td>\n",
              "      <td>11/6/2015</td>\n",
              "      <td>7.8</td>\n",
              "      <td>2015</td>\n",
              "      <td>68346473</td>\n",
              "      <td>11</td>\n",
              "      <td>9</td>\n",
              "      <td>30</td>\n",
              "    </tr>\n",
              "    <tr>\n",
              "      <th>124</th>\n",
              "      <td>tt2245084</td>\n",
              "      <td>165000000</td>\n",
              "      <td>652105443</td>\n",
              "      <td>Big Hero 6</td>\n",
              "      <td>Scott Adsit|Ryan Potter|Daniel Henney|T.J. Mil...</td>\n",
              "      <td>Don Hall|Chris Williams</td>\n",
              "      <td>From the creators of Wreck-it Ralph and Frozen</td>\n",
              "      <td>The special bond that develops between plus-si...</td>\n",
              "      <td>102</td>\n",
              "      <td>Adventure|Family|Animation|Action|Comedy</td>\n",
              "      <td>Walt Disney Pictures|Walt Disney Animation Stu...</td>\n",
              "      <td>10/24/2014</td>\n",
              "      <td>7.8</td>\n",
              "      <td>2014</td>\n",
              "      <td>487105443</td>\n",
              "      <td>10</td>\n",
              "      <td>10</td>\n",
              "      <td>29</td>\n",
              "    </tr>\n",
              "    <tr>\n",
              "      <th>177</th>\n",
              "      <td>tt2582846</td>\n",
              "      <td>12000000</td>\n",
              "      <td>305151265</td>\n",
              "      <td>The Fault in Our Stars</td>\n",
              "      <td>Shailene Woodley|Ansel Elgort|Nat Wolff|Laura ...</td>\n",
              "      <td>Josh Boone</td>\n",
              "      <td>One Sick Love Story</td>\n",
              "      <td>Despite the tumor-shrinking medical miracle th...</td>\n",
              "      <td>125</td>\n",
              "      <td>Romance|Drama</td>\n",
              "      <td>Fox 2000 Pictures|Temple Hill Entertainment|TS...</td>\n",
              "      <td>5/16/2014</td>\n",
              "      <td>7.8</td>\n",
              "      <td>2014</td>\n",
              "      <td>293151265</td>\n",
              "      <td>5</td>\n",
              "      <td>22</td>\n",
              "      <td>47</td>\n",
              "    </tr>\n",
              "  </tbody>\n",
              "</table>\n",
              "</div>"
            ],
            "text/plain": [
              "        imdb_id     budget  ...  title_length overview_word_count\n",
              "599   tt0468569  185000000  ...            15                  67\n",
              "118   tt0816692  165000000  ...            12                  35\n",
              "125   tt2084970   14000000  ...            18                  46\n",
              "9     tt2096673  175000000  ...            10                 112\n",
              "34    tt3170832    6000000  ...             4                  49\n",
              "1183  tt0993846  100000000  ...            23                  29\n",
              "128   tt2267998   61000000  ...             9                  30\n",
              "1191  tt2024544   20000000  ...            16                  61\n",
              "119   tt2015381  170000000  ...            23                  28\n",
              "1081  tt0167260   94000000  ...            45                  45\n",
              "1800  tt0209144    9000000  ...             7                  78\n",
              "370   tt1375666  160000000  ...             9                  44\n",
              "872   tt0253474   35000000  ...            11                  39\n",
              "138   tt2278388   30000000  ...            24                  66\n",
              "1188  tt1798709   23000000  ...             3                  65\n",
              "28    tt1895587   20000000  ...             9                  30\n",
              "124   tt2245084  165000000  ...            10                  29\n",
              "177   tt2582846   12000000  ...            22                  47\n",
              "\n",
              "[18 rows x 18 columns]"
            ]
          },
          "metadata": {
            "tags": []
          },
          "execution_count": 240
        }
      ]
    },
    {
      "cell_type": "code",
      "metadata": {
        "id": "pwZWA3hs7Y7r"
      },
      "source": [
        "# Have to pick up manually this time...\r\n",
        "answers['26'] = 'Inside Out, The Dark Knight, 12 Years a Slave'"
      ],
      "execution_count": 241,
      "outputs": []
    },
    {
      "cell_type": "markdown",
      "metadata": {
        "id": "MdXsUXbCVqAV"
      },
      "source": [
        "# 27. Какие актеры чаще всего снимаются в одном фильме вместе?\n",
        "\n",
        "<font color=\"blue\">What actors are most often filmed together in the same movie?</font>"
      ]
    },
    {
      "cell_type": "code",
      "metadata": {
        "id": "epxP4Y_x7b04",
        "colab": {
          "base_uri": "https://localhost:8080/",
          "height": 221
        },
        "outputId": "5ffcf368-b8f4-446b-e947-6e26b7944536"
      },
      "source": [
        "from itertools import combinations\r\n",
        "# Create pairs of actors from cast\r\n",
        "actors_pairs = [] \r\n",
        "for cast in data.cast.str.split('|'):\r\n",
        "    actors_pairs.extend(combinations(cast, 2))\r\n",
        "# Create series from pairs and count\r\n",
        "count_actors_pairs = pd.Series(actors_pairs).value_counts()\r\n",
        "display(count_actors_pairs)"
      ],
      "execution_count": 242,
      "outputs": [
        {
          "output_type": "display_data",
          "data": {
            "text/plain": [
              "(Daniel Radcliffe, Emma Watson)        8\n",
              "(Daniel Radcliffe, Rupert Grint)       8\n",
              "(Rupert Grint, Emma Watson)            7\n",
              "(Johnny Depp, Helena Bonham Carter)    6\n",
              "(Ben Stiller, Owen Wilson)             6\n",
              "                                      ..\n",
              "(Eugene Levy, Jonathan Bennett)        1\n",
              "(Mark Strong, Simon McBurney)          1\n",
              "(Billy Bob Thornton, Ken Medlock)      1\n",
              "(Ethan Hawke, Vincent D'Onofrio)       1\n",
              "(Colin Farrell, Jason Sudeikis)        1\n",
              "Length: 18121, dtype: int64"
            ]
          },
          "metadata": {
            "tags": []
          }
        }
      ]
    },
    {
      "cell_type": "code",
      "metadata": {
        "id": "RGJ3Pbvs7dCb",
        "colab": {
          "base_uri": "https://localhost:8080/"
        },
        "outputId": "12d6b46e-53b3-46ae-9eeb-1e8152f2cd87"
      },
      "source": [
        "# The topmost answer is NOT in the suggested answers... \r\n",
        "answers['27'] = ', '.join(count_actors_pairs.idxmax())\r\n",
        "print(answers['27'])\r\n",
        "# ...so, have to set it manually again!\r\n",
        "answers['27'] = 'Daniel Radcliffe, Rupert Grint'\r\n",
        "print(answers['27'])"
      ],
      "execution_count": 243,
      "outputs": [
        {
          "output_type": "stream",
          "text": [
            "Daniel Radcliffe, Emma Watson\n",
            "Daniel Radcliffe, Rupert Grint\n"
          ],
          "name": "stdout"
        }
      ]
    },
    {
      "cell_type": "markdown",
      "metadata": {
        "id": "U0nONFnGVqAX"
      },
      "source": [
        "# Submission"
      ]
    },
    {
      "cell_type": "code",
      "metadata": {
        "id": "IfcaRO9-VqAX",
        "colab": {
          "base_uri": "https://localhost:8080/"
        },
        "outputId": "4ac48a7e-2ab4-4e84-8ece-8a2a00032e08"
      },
      "source": [
        "# Print answers\n",
        "for n, a in answers.items(): print(\"{}: {}\".format(n, a))"
      ],
      "execution_count": 244,
      "outputs": [
        {
          "output_type": "stream",
          "text": [
            "1: Pirates of the Caribbean: On Stranger Tides (tt1298650)\n",
            "2: Gods and Generals (tt0279111)\n",
            "3: Winnie the Pooh (tt1449283)\n",
            "4: 110\n",
            "5: 107\n",
            "6: Avatar (tt0499549)\n",
            "7: The Lone Ranger (tt1210819)\n",
            "8: 1478\n",
            "9: The Dark Knight (tt0468569)\n",
            "10: The Lone Ranger (tt1210819)\n",
            "11: Drama\n",
            "12: Drama\n",
            "13: Peter Jackson\n",
            "14: Robert Rodriguez\n",
            "15: Chris Hemsworth\n",
            "16: Matt Damon\n",
            "17: Action\n",
            "18: K-19: The Widowmaker (tt0267626)\n",
            "19: 2015\n",
            "20: 2014\n",
            "21: Сентябрь\n",
            "22: 450\n",
            "23: Peter Jackson\n",
            "24: Four By Two Productions\n",
            "25: Midnight Picture Show\n",
            "26: Inside Out, The Dark Knight, 12 Years a Slave\n",
            "27: Daniel Radcliffe, Rupert Grint\n"
          ],
          "name": "stdout"
        }
      ]
    },
    {
      "cell_type": "code",
      "metadata": {
        "id": "SiRmHPl8VqAd",
        "colab": {
          "base_uri": "https://localhost:8080/"
        },
        "outputId": "e313c9c2-b9e5-4100-bfae-b6fd47bfb455"
      },
      "source": [
        "# Count answers for self-control\n",
        "len(answers)"
      ],
      "execution_count": 245,
      "outputs": [
        {
          "output_type": "execute_result",
          "data": {
            "text/plain": [
              "27"
            ]
          },
          "metadata": {
            "tags": []
          },
          "execution_count": 245
        }
      ]
    }
  ]
}